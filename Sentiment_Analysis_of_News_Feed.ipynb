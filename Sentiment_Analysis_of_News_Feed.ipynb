{
  "nbformat": 4,
  "nbformat_minor": 0,
  "metadata": {
    "colab": {
      "name": "Sentiment Analysis of News Feed.ipynb",
      "provenance": []
    },
    "kernelspec": {
      "name": "python3",
      "display_name": "Python 3"
    },
    "language_info": {
      "name": "python"
    }
  },
  "cells": [
    {
      "cell_type": "markdown",
      "source": [
        "# **Building Vectorizers and Models**"
      ],
      "metadata": {
        "id": "bl7SlAtn61OY"
      }
    },
    {
      "cell_type": "markdown",
      "source": [
        "Install dependencies and import libraries"
      ],
      "metadata": {
        "id": "oYSF1lZ5gCIP"
      }
    },
    {
      "cell_type": "code",
      "source": [
        "!pip install pygooglenews\n",
        "\n",
        "from pygooglenews import GoogleNews"
      ],
      "metadata": {
        "id": "sZilVDLF58cr",
        "colab": {
          "base_uri": "https://localhost:8080/"
        },
        "outputId": "8310ac7e-f1b5-414c-ccdc-c1e28c8aa761"
      },
      "execution_count": null,
      "outputs": [
        {
          "output_type": "stream",
          "name": "stdout",
          "text": [
            "Looking in indexes: https://pypi.org/simple, https://us-python.pkg.dev/colab-wheels/public/simple/\n",
            "Collecting pygooglenews\n",
            "  Downloading pygooglenews-0.1.2-py3-none-any.whl (10 kB)\n",
            "Collecting dateparser<0.8.0,>=0.7.6\n",
            "  Downloading dateparser-0.7.6-py2.py3-none-any.whl (362 kB)\n",
            "\u001b[K     |████████████████████████████████| 362 kB 5.2 MB/s \n",
            "\u001b[?25hCollecting beautifulsoup4<5.0.0,>=4.9.1\n",
            "  Downloading beautifulsoup4-4.11.1-py3-none-any.whl (128 kB)\n",
            "\u001b[K     |████████████████████████████████| 128 kB 52.5 MB/s \n",
            "\u001b[?25hCollecting feedparser<6.0.0,>=5.2.1\n",
            "  Downloading feedparser-5.2.1.zip (1.2 MB)\n",
            "\u001b[K     |████████████████████████████████| 1.2 MB 45.2 MB/s \n",
            "\u001b[?25hCollecting requests<3.0.0,>=2.24.0\n",
            "  Downloading requests-2.28.1-py3-none-any.whl (62 kB)\n",
            "\u001b[K     |████████████████████████████████| 62 kB 1.3 MB/s \n",
            "\u001b[?25hRequirement already satisfied: soupsieve>1.2 in /usr/local/lib/python3.7/dist-packages (from beautifulsoup4<5.0.0,>=4.9.1->pygooglenews) (2.3.2.post1)\n",
            "Requirement already satisfied: python-dateutil in /usr/local/lib/python3.7/dist-packages (from dateparser<0.8.0,>=0.7.6->pygooglenews) (2.8.2)\n",
            "Requirement already satisfied: tzlocal in /usr/local/lib/python3.7/dist-packages (from dateparser<0.8.0,>=0.7.6->pygooglenews) (1.5.1)\n",
            "Requirement already satisfied: regex!=2019.02.19 in /usr/local/lib/python3.7/dist-packages (from dateparser<0.8.0,>=0.7.6->pygooglenews) (2022.6.2)\n",
            "Requirement already satisfied: pytz in /usr/local/lib/python3.7/dist-packages (from dateparser<0.8.0,>=0.7.6->pygooglenews) (2022.1)\n",
            "Requirement already satisfied: urllib3<1.27,>=1.21.1 in /usr/local/lib/python3.7/dist-packages (from requests<3.0.0,>=2.24.0->pygooglenews) (1.24.3)\n",
            "Requirement already satisfied: certifi>=2017.4.17 in /usr/local/lib/python3.7/dist-packages (from requests<3.0.0,>=2.24.0->pygooglenews) (2022.6.15)\n",
            "Requirement already satisfied: idna<4,>=2.5 in /usr/local/lib/python3.7/dist-packages (from requests<3.0.0,>=2.24.0->pygooglenews) (2.10)\n",
            "Requirement already satisfied: charset-normalizer<3,>=2 in /usr/local/lib/python3.7/dist-packages (from requests<3.0.0,>=2.24.0->pygooglenews) (2.0.12)\n",
            "Requirement already satisfied: six>=1.5 in /usr/local/lib/python3.7/dist-packages (from python-dateutil->dateparser<0.8.0,>=0.7.6->pygooglenews) (1.15.0)\n",
            "Building wheels for collected packages: feedparser\n",
            "  Building wheel for feedparser (setup.py) ... \u001b[?25l\u001b[?25hdone\n",
            "  Created wheel for feedparser: filename=feedparser-5.2.1-py3-none-any.whl size=44952 sha256=4577486b90f15aed01a421c27eaaad00592b571e8be71e0bb2c1dfaba5f8cf1a\n",
            "  Stored in directory: /root/.cache/pip/wheels/29/bf/46/b4a597d435d3aee6c2fa583824897336d65abf13ebe3405b70\n",
            "Successfully built feedparser\n",
            "Installing collected packages: requests, feedparser, dateparser, beautifulsoup4, pygooglenews\n",
            "  Attempting uninstall: requests\n",
            "    Found existing installation: requests 2.23.0\n",
            "    Uninstalling requests-2.23.0:\n",
            "      Successfully uninstalled requests-2.23.0\n",
            "  Attempting uninstall: beautifulsoup4\n",
            "    Found existing installation: beautifulsoup4 4.6.3\n",
            "    Uninstalling beautifulsoup4-4.6.3:\n",
            "      Successfully uninstalled beautifulsoup4-4.6.3\n",
            "\u001b[31mERROR: pip's dependency resolver does not currently take into account all the packages that are installed. This behaviour is the source of the following dependency conflicts.\n",
            "google-colab 1.0.0 requires requests~=2.23.0, but you have requests 2.28.1 which is incompatible.\n",
            "datascience 0.10.6 requires folium==0.2.1, but you have folium 0.8.3 which is incompatible.\u001b[0m\n",
            "Successfully installed beautifulsoup4-4.11.1 dateparser-0.7.6 feedparser-5.2.1 pygooglenews-0.1.2 requests-2.28.1\n"
          ]
        }
      ]
    },
    {
      "cell_type": "code",
      "execution_count": null,
      "metadata": {
        "id": "U-kpu1myfdBT"
      },
      "outputs": [],
      "source": [
        "import numpy as np\n",
        "import pandas as pd\n",
        "import seaborn as sns\n",
        "import regex as re\n",
        "import nltk\n",
        "import pickle\n",
        "\n",
        "from sklearn.model_selection import train_test_split\n",
        "from sklearn.preprocessing import LabelEncoder\n",
        "from sklearn.feature_extraction.text import CountVectorizer\n",
        "from sklearn.feature_extraction.text import TfidfVectorizer\n",
        "from gensim.models import Word2Vec\n",
        "\n",
        "from sklearn.model_selection import RepeatedStratifiedKFold\n",
        "from sklearn.svm import SVC\n",
        "from sklearn.decomposition import PCA\n",
        "import matplotlib.pyplot as pyplot\n",
        "from sklearn.ensemble import RandomForestClassifier\n",
        "from sklearn.model_selection import GridSearchCV\n",
        "from sklearn.pipeline import Pipeline\n",
        "\n",
        "from sklearn.metrics import accuracy_score\n",
        "from sklearn.metrics import classification_report\n",
        "from sklearn.metrics import confusion_matrix"
      ]
    },
    {
      "cell_type": "code",
      "source": [
        "from nltk.corpus import stopwords\n",
        "from nltk.stem import WordNetLemmatizer\n",
        "nltk.download('stopwords')\n",
        "nltk.download('omw-1.4')\n",
        "nltk.download('punkt')\n",
        "nltk.download('wordnet')"
      ],
      "metadata": {
        "id": "qBmG4TTEggWB",
        "colab": {
          "base_uri": "https://localhost:8080/"
        },
        "outputId": "aac30a39-9d1b-4408-f69c-21573121c846"
      },
      "execution_count": null,
      "outputs": [
        {
          "output_type": "stream",
          "name": "stderr",
          "text": [
            "[nltk_data] Downloading package stopwords to /root/nltk_data...\n",
            "[nltk_data]   Unzipping corpora/stopwords.zip.\n",
            "[nltk_data] Downloading package omw-1.4 to /root/nltk_data...\n",
            "[nltk_data]   Unzipping corpora/omw-1.4.zip.\n",
            "[nltk_data] Downloading package punkt to /root/nltk_data...\n",
            "[nltk_data]   Unzipping tokenizers/punkt.zip.\n",
            "[nltk_data] Downloading package wordnet to /root/nltk_data...\n",
            "[nltk_data]   Unzipping corpora/wordnet.zip.\n"
          ]
        },
        {
          "output_type": "execute_result",
          "data": {
            "text/plain": [
              "True"
            ]
          },
          "metadata": {},
          "execution_count": 3
        }
      ]
    },
    {
      "cell_type": "markdown",
      "source": [
        "Read Dataset"
      ],
      "metadata": {
        "id": "aQhHCmBWhKnM"
      }
    },
    {
      "cell_type": "code",
      "source": [
        "df = pd.read_excel(\"Client_Dataset.xlsx\")\n",
        "df.head(10)"
      ],
      "metadata": {
        "colab": {
          "base_uri": "https://localhost:8080/",
          "height": 580
        },
        "id": "HEbsZvrqgZea",
        "outputId": "512b65c7-7751-4a7c-d9d3-78f9e7618cc2"
      },
      "execution_count": null,
      "outputs": [
        {
          "output_type": "execute_result",
          "data": {
            "text/plain": [
              "                                               title  \\\n",
              "0  Tata Metaliks reports Rs 94.72 crore net profi...   \n",
              "1  Tata Metaliks gains 8% after strong June quart...   \n",
              "2  Top stocks to buy with Anil Singhvi: Tata Meta...   \n",
              "3  Stocks in focus: Tata Metaliks, Zuari Agro Che...   \n",
              "4  Tata Metaliks: Preferred stock to play the wat...   \n",
              "5  Tata Metaliks Standalone June 2021 Net Sales a...   \n",
              "6  Hot Stocks | Tata Metaliks, Sutlej Textiles ca...   \n",
              "7  Tata Metaliks among 6 momentum stocks to buy f...   \n",
              "8  Stocks in news: Maruti Suzuki, Reliance Indust...   \n",
              "9  There's A Lot To Like About Tata Metaliks' (NS...   \n",
              "\n",
              "                                                link  \\\n",
              "0  https://www.business-standard.com/article/comp...   \n",
              "1  https://www.livemint.com/market/stock-market-n...   \n",
              "2  https://www.zeebiz.com/market-news/news-top-st...   \n",
              "3  https://economictimes.indiatimes.com/markets/s...   \n",
              "4  https://www.moneycontrol.com/news/business/mon...   \n",
              "5  https://www.moneycontrol.com/news/business/ear...   \n",
              "6  https://www.moneycontrol.com/news/business/mar...   \n",
              "7  https://economictimes.indiatimes.com/markets/s...   \n",
              "8  https://www.businesstoday.in/markets/company-s...   \n",
              "9  https://simplywall.st/stocks/in/materials/nse-...   \n",
              "\n",
              "                                              title1        Company   NC  \\\n",
              "0  Tata Metaliks reports Rs 94.72 crore net profi...  Tata Metaliks  NaN   \n",
              "1  Tata Metaliks gains 8% after strong June quart...  Tata Metaliks  NaN   \n",
              "2  Top stocks to buy with Anil Singhvi: Tata Meta...  Tata Metaliks   NC   \n",
              "3  Stocks in focus: Tata Metaliks, Zuari Agro Che...  Tata Metaliks   NC   \n",
              "4  Tata Metaliks: Preferred stock to play the wat...  Tata Metaliks   NC   \n",
              "5  Tata Metaliks Standalone June 2021 Net Sales a...  Tata Metaliks  NaN   \n",
              "6  Hot Stocks | Tata Metaliks, Sutlej Textiles ca...  Tata Metaliks   NC   \n",
              "7  Tata Metaliks among 6 momentum stocks to buy f...  Tata Metaliks   NC   \n",
              "8  Stocks in news: Maruti Suzuki, Reliance Indust...  Tata Metaliks   NC   \n",
              "9  There's A Lot To Like About Tata Metaliks' (NS...  Tata Metaliks   NC   \n",
              "\n",
              "           Time Sentiment  \n",
              "0  past/current       NaN  \n",
              "1  past/current         p  \n",
              "2  past/current       NaN  \n",
              "3  past/current       NaN  \n",
              "4  past/current         p  \n",
              "5  past/current       NaN  \n",
              "6        future       NaN  \n",
              "7        future       NaN  \n",
              "8  past/current       NaN  \n",
              "9  past/current       NaN  "
            ],
            "text/html": [
              "\n",
              "  <div id=\"df-310161fa-8fb0-41fe-b150-9e8da01c0018\">\n",
              "    <div class=\"colab-df-container\">\n",
              "      <div>\n",
              "<style scoped>\n",
              "    .dataframe tbody tr th:only-of-type {\n",
              "        vertical-align: middle;\n",
              "    }\n",
              "\n",
              "    .dataframe tbody tr th {\n",
              "        vertical-align: top;\n",
              "    }\n",
              "\n",
              "    .dataframe thead th {\n",
              "        text-align: right;\n",
              "    }\n",
              "</style>\n",
              "<table border=\"1\" class=\"dataframe\">\n",
              "  <thead>\n",
              "    <tr style=\"text-align: right;\">\n",
              "      <th></th>\n",
              "      <th>title</th>\n",
              "      <th>link</th>\n",
              "      <th>title1</th>\n",
              "      <th>Company</th>\n",
              "      <th>NC</th>\n",
              "      <th>Time</th>\n",
              "      <th>Sentiment</th>\n",
              "    </tr>\n",
              "  </thead>\n",
              "  <tbody>\n",
              "    <tr>\n",
              "      <th>0</th>\n",
              "      <td>Tata Metaliks reports Rs 94.72 crore net profi...</td>\n",
              "      <td>https://www.business-standard.com/article/comp...</td>\n",
              "      <td>Tata Metaliks reports Rs 94.72 crore net profi...</td>\n",
              "      <td>Tata Metaliks</td>\n",
              "      <td>NaN</td>\n",
              "      <td>past/current</td>\n",
              "      <td>NaN</td>\n",
              "    </tr>\n",
              "    <tr>\n",
              "      <th>1</th>\n",
              "      <td>Tata Metaliks gains 8% after strong June quart...</td>\n",
              "      <td>https://www.livemint.com/market/stock-market-n...</td>\n",
              "      <td>Tata Metaliks gains 8% after strong June quart...</td>\n",
              "      <td>Tata Metaliks</td>\n",
              "      <td>NaN</td>\n",
              "      <td>past/current</td>\n",
              "      <td>p</td>\n",
              "    </tr>\n",
              "    <tr>\n",
              "      <th>2</th>\n",
              "      <td>Top stocks to buy with Anil Singhvi: Tata Meta...</td>\n",
              "      <td>https://www.zeebiz.com/market-news/news-top-st...</td>\n",
              "      <td>Top stocks to buy with Anil Singhvi: Tata Meta...</td>\n",
              "      <td>Tata Metaliks</td>\n",
              "      <td>NC</td>\n",
              "      <td>past/current</td>\n",
              "      <td>NaN</td>\n",
              "    </tr>\n",
              "    <tr>\n",
              "      <th>3</th>\n",
              "      <td>Stocks in focus: Tata Metaliks, Zuari Agro Che...</td>\n",
              "      <td>https://economictimes.indiatimes.com/markets/s...</td>\n",
              "      <td>Stocks in focus: Tata Metaliks, Zuari Agro Che...</td>\n",
              "      <td>Tata Metaliks</td>\n",
              "      <td>NC</td>\n",
              "      <td>past/current</td>\n",
              "      <td>NaN</td>\n",
              "    </tr>\n",
              "    <tr>\n",
              "      <th>4</th>\n",
              "      <td>Tata Metaliks: Preferred stock to play the wat...</td>\n",
              "      <td>https://www.moneycontrol.com/news/business/mon...</td>\n",
              "      <td>Tata Metaliks: Preferred stock to play the wat...</td>\n",
              "      <td>Tata Metaliks</td>\n",
              "      <td>NC</td>\n",
              "      <td>past/current</td>\n",
              "      <td>p</td>\n",
              "    </tr>\n",
              "    <tr>\n",
              "      <th>5</th>\n",
              "      <td>Tata Metaliks Standalone June 2021 Net Sales a...</td>\n",
              "      <td>https://www.moneycontrol.com/news/business/ear...</td>\n",
              "      <td>Tata Metaliks Standalone June 2021 Net Sales a...</td>\n",
              "      <td>Tata Metaliks</td>\n",
              "      <td>NaN</td>\n",
              "      <td>past/current</td>\n",
              "      <td>NaN</td>\n",
              "    </tr>\n",
              "    <tr>\n",
              "      <th>6</th>\n",
              "      <td>Hot Stocks | Tata Metaliks, Sutlej Textiles ca...</td>\n",
              "      <td>https://www.moneycontrol.com/news/business/mar...</td>\n",
              "      <td>Hot Stocks | Tata Metaliks, Sutlej Textiles ca...</td>\n",
              "      <td>Tata Metaliks</td>\n",
              "      <td>NC</td>\n",
              "      <td>future</td>\n",
              "      <td>NaN</td>\n",
              "    </tr>\n",
              "    <tr>\n",
              "      <th>7</th>\n",
              "      <td>Tata Metaliks among 6 momentum stocks to buy f...</td>\n",
              "      <td>https://economictimes.indiatimes.com/markets/s...</td>\n",
              "      <td>Tata Metaliks among 6 momentum stocks to buy f...</td>\n",
              "      <td>Tata Metaliks</td>\n",
              "      <td>NC</td>\n",
              "      <td>future</td>\n",
              "      <td>NaN</td>\n",
              "    </tr>\n",
              "    <tr>\n",
              "      <th>8</th>\n",
              "      <td>Stocks in news: Maruti Suzuki, Reliance Indust...</td>\n",
              "      <td>https://www.businesstoday.in/markets/company-s...</td>\n",
              "      <td>Stocks in news: Maruti Suzuki, Reliance Indust...</td>\n",
              "      <td>Tata Metaliks</td>\n",
              "      <td>NC</td>\n",
              "      <td>past/current</td>\n",
              "      <td>NaN</td>\n",
              "    </tr>\n",
              "    <tr>\n",
              "      <th>9</th>\n",
              "      <td>There's A Lot To Like About Tata Metaliks' (NS...</td>\n",
              "      <td>https://simplywall.st/stocks/in/materials/nse-...</td>\n",
              "      <td>There's A Lot To Like About Tata Metaliks' (NS...</td>\n",
              "      <td>Tata Metaliks</td>\n",
              "      <td>NC</td>\n",
              "      <td>past/current</td>\n",
              "      <td>NaN</td>\n",
              "    </tr>\n",
              "  </tbody>\n",
              "</table>\n",
              "</div>\n",
              "      <button class=\"colab-df-convert\" onclick=\"convertToInteractive('df-310161fa-8fb0-41fe-b150-9e8da01c0018')\"\n",
              "              title=\"Convert this dataframe to an interactive table.\"\n",
              "              style=\"display:none;\">\n",
              "        \n",
              "  <svg xmlns=\"http://www.w3.org/2000/svg\" height=\"24px\"viewBox=\"0 0 24 24\"\n",
              "       width=\"24px\">\n",
              "    <path d=\"M0 0h24v24H0V0z\" fill=\"none\"/>\n",
              "    <path d=\"M18.56 5.44l.94 2.06.94-2.06 2.06-.94-2.06-.94-.94-2.06-.94 2.06-2.06.94zm-11 1L8.5 8.5l.94-2.06 2.06-.94-2.06-.94L8.5 2.5l-.94 2.06-2.06.94zm10 10l.94 2.06.94-2.06 2.06-.94-2.06-.94-.94-2.06-.94 2.06-2.06.94z\"/><path d=\"M17.41 7.96l-1.37-1.37c-.4-.4-.92-.59-1.43-.59-.52 0-1.04.2-1.43.59L10.3 9.45l-7.72 7.72c-.78.78-.78 2.05 0 2.83L4 21.41c.39.39.9.59 1.41.59.51 0 1.02-.2 1.41-.59l7.78-7.78 2.81-2.81c.8-.78.8-2.07 0-2.86zM5.41 20L4 18.59l7.72-7.72 1.47 1.35L5.41 20z\"/>\n",
              "  </svg>\n",
              "      </button>\n",
              "      \n",
              "  <style>\n",
              "    .colab-df-container {\n",
              "      display:flex;\n",
              "      flex-wrap:wrap;\n",
              "      gap: 12px;\n",
              "    }\n",
              "\n",
              "    .colab-df-convert {\n",
              "      background-color: #E8F0FE;\n",
              "      border: none;\n",
              "      border-radius: 50%;\n",
              "      cursor: pointer;\n",
              "      display: none;\n",
              "      fill: #1967D2;\n",
              "      height: 32px;\n",
              "      padding: 0 0 0 0;\n",
              "      width: 32px;\n",
              "    }\n",
              "\n",
              "    .colab-df-convert:hover {\n",
              "      background-color: #E2EBFA;\n",
              "      box-shadow: 0px 1px 2px rgba(60, 64, 67, 0.3), 0px 1px 3px 1px rgba(60, 64, 67, 0.15);\n",
              "      fill: #174EA6;\n",
              "    }\n",
              "\n",
              "    [theme=dark] .colab-df-convert {\n",
              "      background-color: #3B4455;\n",
              "      fill: #D2E3FC;\n",
              "    }\n",
              "\n",
              "    [theme=dark] .colab-df-convert:hover {\n",
              "      background-color: #434B5C;\n",
              "      box-shadow: 0px 1px 3px 1px rgba(0, 0, 0, 0.15);\n",
              "      filter: drop-shadow(0px 1px 2px rgba(0, 0, 0, 0.3));\n",
              "      fill: #FFFFFF;\n",
              "    }\n",
              "  </style>\n",
              "\n",
              "      <script>\n",
              "        const buttonEl =\n",
              "          document.querySelector('#df-310161fa-8fb0-41fe-b150-9e8da01c0018 button.colab-df-convert');\n",
              "        buttonEl.style.display =\n",
              "          google.colab.kernel.accessAllowed ? 'block' : 'none';\n",
              "\n",
              "        async function convertToInteractive(key) {\n",
              "          const element = document.querySelector('#df-310161fa-8fb0-41fe-b150-9e8da01c0018');\n",
              "          const dataTable =\n",
              "            await google.colab.kernel.invokeFunction('convertToInteractive',\n",
              "                                                     [key], {});\n",
              "          if (!dataTable) return;\n",
              "\n",
              "          const docLinkHtml = 'Like what you see? Visit the ' +\n",
              "            '<a target=\"_blank\" href=https://colab.research.google.com/notebooks/data_table.ipynb>data table notebook</a>'\n",
              "            + ' to learn more about interactive tables.';\n",
              "          element.innerHTML = '';\n",
              "          dataTable['output_type'] = 'display_data';\n",
              "          await google.colab.output.renderOutput(dataTable, element);\n",
              "          const docLink = document.createElement('div');\n",
              "          docLink.innerHTML = docLinkHtml;\n",
              "          element.appendChild(docLink);\n",
              "        }\n",
              "      </script>\n",
              "    </div>\n",
              "  </div>\n",
              "  "
            ]
          },
          "metadata": {},
          "execution_count": 4
        }
      ]
    },
    {
      "cell_type": "code",
      "source": [
        "df.info()"
      ],
      "metadata": {
        "colab": {
          "base_uri": "https://localhost:8080/"
        },
        "id": "7efNS3h4mus9",
        "outputId": "71afed29-53bd-41bc-9b43-ebb815fe8ebd"
      },
      "execution_count": null,
      "outputs": [
        {
          "output_type": "stream",
          "name": "stdout",
          "text": [
            "<class 'pandas.core.frame.DataFrame'>\n",
            "RangeIndex: 769 entries, 0 to 768\n",
            "Data columns (total 7 columns):\n",
            " #   Column     Non-Null Count  Dtype \n",
            "---  ------     --------------  ----- \n",
            " 0   title      706 non-null    object\n",
            " 1   link       706 non-null    object\n",
            " 2   title1     769 non-null    object\n",
            " 3   Company    311 non-null    object\n",
            " 4   NC         273 non-null    object\n",
            " 5   Time       570 non-null    object\n",
            " 6   Sentiment  199 non-null    object\n",
            "dtypes: object(7)\n",
            "memory usage: 42.2+ KB\n"
          ]
        }
      ]
    },
    {
      "cell_type": "code",
      "source": [
        "sns.heatmap(df.isnull(), cbar=False)"
      ],
      "metadata": {
        "colab": {
          "base_uri": "https://localhost:8080/",
          "height": 287
        },
        "id": "4EIVtl3EhFlY",
        "outputId": "4d2029f1-1689-4d78-eff9-4cd50c165bff"
      },
      "execution_count": null,
      "outputs": [
        {
          "output_type": "execute_result",
          "data": {
            "text/plain": [
              "<matplotlib.axes._subplots.AxesSubplot at 0x7fc3ba475310>"
            ]
          },
          "metadata": {},
          "execution_count": 6
        },
        {
          "output_type": "display_data",
          "data": {
            "text/plain": [
              "<Figure size 432x288 with 1 Axes>"
            ],
            "image/png": "[encoded data removed]"
          },
          "metadata": {
            "needs_background": "light"
          }
        }
      ]
    },
    {
      "cell_type": "code",
      "source": [
        "df = df.drop([\"Company\", \"NC\", \"title\", \"link\"], axis = 1)\n",
        "\n",
        "df[\"Sentiment\"].fillna(\"z\", inplace=True)\n",
        "df[\"Time\"].fillna(\"Unknown\", inplace=True)\n",
        "\n",
        "df.head(10)"
      ],
      "metadata": {
        "colab": {
          "base_uri": "https://localhost:8080/",
          "height": 363
        },
        "id": "FLhNG_XGhoQa",
        "outputId": "6a6324e8-8c51-4d38-b50f-b4d69c3bdd90"
      },
      "execution_count": null,
      "outputs": [
        {
          "output_type": "execute_result",
          "data": {
            "text/plain": [
              "                                              title1          Time Sentiment\n",
              "0  Tata Metaliks reports Rs 94.72 crore net profi...  past/current         z\n",
              "1  Tata Metaliks gains 8% after strong June quart...  past/current         p\n",
              "2  Top stocks to buy with Anil Singhvi: Tata Meta...  past/current         z\n",
              "3  Stocks in focus: Tata Metaliks, Zuari Agro Che...  past/current         z\n",
              "4  Tata Metaliks: Preferred stock to play the wat...  past/current         p\n",
              "5  Tata Metaliks Standalone June 2021 Net Sales a...  past/current         z\n",
              "6  Hot Stocks | Tata Metaliks, Sutlej Textiles ca...        future         z\n",
              "7  Tata Metaliks among 6 momentum stocks to buy f...        future         z\n",
              "8  Stocks in news: Maruti Suzuki, Reliance Indust...  past/current         z\n",
              "9  There's A Lot To Like About Tata Metaliks' (NS...  past/current         z"
            ],
            "text/html": [
              "\n",
              "  <div id=\"df-2a30714a-fb5f-4ecb-bec9-e09a81b988cf\">\n",
              "    <div class=\"colab-df-container\">\n",
              "      <div>\n",
              "<style scoped>\n",
              "    .dataframe tbody tr th:only-of-type {\n",
              "        vertical-align: middle;\n",
              "    }\n",
              "\n",
              "    .dataframe tbody tr th {\n",
              "        vertical-align: top;\n",
              "    }\n",
              "\n",
              "    .dataframe thead th {\n",
              "        text-align: right;\n",
              "    }\n",
              "</style>\n",
              "<table border=\"1\" class=\"dataframe\">\n",
              "  <thead>\n",
              "    <tr style=\"text-align: right;\">\n",
              "      <th></th>\n",
              "      <th>title1</th>\n",
              "      <th>Time</th>\n",
              "      <th>Sentiment</th>\n",
              "    </tr>\n",
              "  </thead>\n",
              "  <tbody>\n",
              "    <tr>\n",
              "      <th>0</th>\n",
              "      <td>Tata Metaliks reports Rs 94.72 crore net profi...</td>\n",
              "      <td>past/current</td>\n",
              "      <td>z</td>\n",
              "    </tr>\n",
              "    <tr>\n",
              "      <th>1</th>\n",
              "      <td>Tata Metaliks gains 8% after strong June quart...</td>\n",
              "      <td>past/current</td>\n",
              "      <td>p</td>\n",
              "    </tr>\n",
              "    <tr>\n",
              "      <th>2</th>\n",
              "      <td>Top stocks to buy with Anil Singhvi: Tata Meta...</td>\n",
              "      <td>past/current</td>\n",
              "      <td>z</td>\n",
              "    </tr>\n",
              "    <tr>\n",
              "      <th>3</th>\n",
              "      <td>Stocks in focus: Tata Metaliks, Zuari Agro Che...</td>\n",
              "      <td>past/current</td>\n",
              "      <td>z</td>\n",
              "    </tr>\n",
              "    <tr>\n",
              "      <th>4</th>\n",
              "      <td>Tata Metaliks: Preferred stock to play the wat...</td>\n",
              "      <td>past/current</td>\n",
              "      <td>p</td>\n",
              "    </tr>\n",
              "    <tr>\n",
              "      <th>5</th>\n",
              "      <td>Tata Metaliks Standalone June 2021 Net Sales a...</td>\n",
              "      <td>past/current</td>\n",
              "      <td>z</td>\n",
              "    </tr>\n",
              "    <tr>\n",
              "      <th>6</th>\n",
              "      <td>Hot Stocks | Tata Metaliks, Sutlej Textiles ca...</td>\n",
              "      <td>future</td>\n",
              "      <td>z</td>\n",
              "    </tr>\n",
              "    <tr>\n",
              "      <th>7</th>\n",
              "      <td>Tata Metaliks among 6 momentum stocks to buy f...</td>\n",
              "      <td>future</td>\n",
              "      <td>z</td>\n",
              "    </tr>\n",
              "    <tr>\n",
              "      <th>8</th>\n",
              "      <td>Stocks in news: Maruti Suzuki, Reliance Indust...</td>\n",
              "      <td>past/current</td>\n",
              "      <td>z</td>\n",
              "    </tr>\n",
              "    <tr>\n",
              "      <th>9</th>\n",
              "      <td>There's A Lot To Like About Tata Metaliks' (NS...</td>\n",
              "      <td>past/current</td>\n",
              "      <td>z</td>\n",
              "    </tr>\n",
              "  </tbody>\n",
              "</table>\n",
              "</div>\n",
              "      <button class=\"colab-df-convert\" onclick=\"convertToInteractive('df-2a30714a-fb5f-4ecb-bec9-e09a81b988cf')\"\n",
              "              title=\"Convert this dataframe to an interactive table.\"\n",
              "              style=\"display:none;\">\n",
              "        \n",
              "  <svg xmlns=\"http://www.w3.org/2000/svg\" height=\"24px\"viewBox=\"0 0 24 24\"\n",
              "       width=\"24px\">\n",
              "    <path d=\"M0 0h24v24H0V0z\" fill=\"none\"/>\n",
              "    <path d=\"M18.56 5.44l.94 2.06.94-2.06 2.06-.94-2.06-.94-.94-2.06-.94 2.06-2.06.94zm-11 1L8.5 8.5l.94-2.06 2.06-.94-2.06-.94L8.5 2.5l-.94 2.06-2.06.94zm10 10l.94 2.06.94-2.06 2.06-.94-2.06-.94-.94-2.06-.94 2.06-2.06.94z\"/><path d=\"M17.41 7.96l-1.37-1.37c-.4-.4-.92-.59-1.43-.59-.52 0-1.04.2-1.43.59L10.3 9.45l-7.72 7.72c-.78.78-.78 2.05 0 2.83L4 21.41c.39.39.9.59 1.41.59.51 0 1.02-.2 1.41-.59l7.78-7.78 2.81-2.81c.8-.78.8-2.07 0-2.86zM5.41 20L4 18.59l7.72-7.72 1.47 1.35L5.41 20z\"/>\n",
              "  </svg>\n",
              "      </button>\n",
              "      \n",
              "  <style>\n",
              "    .colab-df-container {\n",
              "      display:flex;\n",
              "      flex-wrap:wrap;\n",
              "      gap: 12px;\n",
              "    }\n",
              "\n",
              "    .colab-df-convert {\n",
              "      background-color: #E8F0FE;\n",
              "      border: none;\n",
              "      border-radius: 50%;\n",
              "      cursor: pointer;\n",
              "      display: none;\n",
              "      fill: #1967D2;\n",
              "      height: 32px;\n",
              "      padding: 0 0 0 0;\n",
              "      width: 32px;\n",
              "    }\n",
              "\n",
              "    .colab-df-convert:hover {\n",
              "      background-color: #E2EBFA;\n",
              "      box-shadow: 0px 1px 2px rgba(60, 64, 67, 0.3), 0px 1px 3px 1px rgba(60, 64, 67, 0.15);\n",
              "      fill: #174EA6;\n",
              "    }\n",
              "\n",
              "    [theme=dark] .colab-df-convert {\n",
              "      background-color: #3B4455;\n",
              "      fill: #D2E3FC;\n",
              "    }\n",
              "\n",
              "    [theme=dark] .colab-df-convert:hover {\n",
              "      background-color: #434B5C;\n",
              "      box-shadow: 0px 1px 3px 1px rgba(0, 0, 0, 0.15);\n",
              "      filter: drop-shadow(0px 1px 2px rgba(0, 0, 0, 0.3));\n",
              "      fill: #FFFFFF;\n",
              "    }\n",
              "  </style>\n",
              "\n",
              "      <script>\n",
              "        const buttonEl =\n",
              "          document.querySelector('#df-2a30714a-fb5f-4ecb-bec9-e09a81b988cf button.colab-df-convert');\n",
              "        buttonEl.style.display =\n",
              "          google.colab.kernel.accessAllowed ? 'block' : 'none';\n",
              "\n",
              "        async function convertToInteractive(key) {\n",
              "          const element = document.querySelector('#df-2a30714a-fb5f-4ecb-bec9-e09a81b988cf');\n",
              "          const dataTable =\n",
              "            await google.colab.kernel.invokeFunction('convertToInteractive',\n",
              "                                                     [key], {});\n",
              "          if (!dataTable) return;\n",
              "\n",
              "          const docLinkHtml = 'Like what you see? Visit the ' +\n",
              "            '<a target=\"_blank\" href=https://colab.research.google.com/notebooks/data_table.ipynb>data table notebook</a>'\n",
              "            + ' to learn more about interactive tables.';\n",
              "          element.innerHTML = '';\n",
              "          dataTable['output_type'] = 'display_data';\n",
              "          await google.colab.output.renderOutput(dataTable, element);\n",
              "          const docLink = document.createElement('div');\n",
              "          docLink.innerHTML = docLinkHtml;\n",
              "          element.appendChild(docLink);\n",
              "        }\n",
              "      </script>\n",
              "    </div>\n",
              "  </div>\n",
              "  "
            ]
          },
          "metadata": {},
          "execution_count": 7
        }
      ]
    },
    {
      "cell_type": "markdown",
      "source": [
        "Data Exploration (Perform EDA)"
      ],
      "metadata": {
        "id": "9cdnHwa3hc4w"
      }
    },
    {
      "cell_type": "code",
      "source": [
        "eda_df = df[[\"title1\",\t\"Time\",\t'Sentiment']]\n",
        "\n",
        "eda_df[\"Sentiment\"] = LabelEncoder().fit_transform(df[\"Sentiment\"]) \n",
        "eda_df[\"Time\"] = LabelEncoder().fit_transform(df[\"Time\"])           \n",
        "\n",
        "eda_df.head(10)"
      ],
      "metadata": {
        "colab": {
          "base_uri": "https://localhost:8080/",
          "height": 363
        },
        "id": "-sODC0HxqOPW",
        "outputId": "1b76d353-18ba-4d47-d527-5c327e66cd6e"
      },
      "execution_count": null,
      "outputs": [
        {
          "output_type": "execute_result",
          "data": {
            "text/plain": [
              "                                              title1  Time  Sentiment\n",
              "0  Tata Metaliks reports Rs 94.72 crore net profi...     2          2\n",
              "1  Tata Metaliks gains 8% after strong June quart...     2          1\n",
              "2  Top stocks to buy with Anil Singhvi: Tata Meta...     2          2\n",
              "3  Stocks in focus: Tata Metaliks, Zuari Agro Che...     2          2\n",
              "4  Tata Metaliks: Preferred stock to play the wat...     2          1\n",
              "5  Tata Metaliks Standalone June 2021 Net Sales a...     2          2\n",
              "6  Hot Stocks | Tata Metaliks, Sutlej Textiles ca...     1          2\n",
              "7  Tata Metaliks among 6 momentum stocks to buy f...     1          2\n",
              "8  Stocks in news: Maruti Suzuki, Reliance Indust...     2          2\n",
              "9  There's A Lot To Like About Tata Metaliks' (NS...     2          2"
            ],
            "text/html": [
              "\n",
              "  <div id=\"df-e431b9ea-a95e-4179-bbf0-7067cedbb448\">\n",
              "    <div class=\"colab-df-container\">\n",
              "      <div>\n",
              "<style scoped>\n",
              "    .dataframe tbody tr th:only-of-type {\n",
              "        vertical-align: middle;\n",
              "    }\n",
              "\n",
              "    .dataframe tbody tr th {\n",
              "        vertical-align: top;\n",
              "    }\n",
              "\n",
              "    .dataframe thead th {\n",
              "        text-align: right;\n",
              "    }\n",
              "</style>\n",
              "<table border=\"1\" class=\"dataframe\">\n",
              "  <thead>\n",
              "    <tr style=\"text-align: right;\">\n",
              "      <th></th>\n",
              "      <th>title1</th>\n",
              "      <th>Time</th>\n",
              "      <th>Sentiment</th>\n",
              "    </tr>\n",
              "  </thead>\n",
              "  <tbody>\n",
              "    <tr>\n",
              "      <th>0</th>\n",
              "      <td>Tata Metaliks reports Rs 94.72 crore net profi...</td>\n",
              "      <td>2</td>\n",
              "      <td>2</td>\n",
              "    </tr>\n",
              "    <tr>\n",
              "      <th>1</th>\n",
              "      <td>Tata Metaliks gains 8% after strong June quart...</td>\n",
              "      <td>2</td>\n",
              "      <td>1</td>\n",
              "    </tr>\n",
              "    <tr>\n",
              "      <th>2</th>\n",
              "      <td>Top stocks to buy with Anil Singhvi: Tata Meta...</td>\n",
              "      <td>2</td>\n",
              "      <td>2</td>\n",
              "    </tr>\n",
              "    <tr>\n",
              "      <th>3</th>\n",
              "      <td>Stocks in focus: Tata Metaliks, Zuari Agro Che...</td>\n",
              "      <td>2</td>\n",
              "      <td>2</td>\n",
              "    </tr>\n",
              "    <tr>\n",
              "      <th>4</th>\n",
              "      <td>Tata Metaliks: Preferred stock to play the wat...</td>\n",
              "      <td>2</td>\n",
              "      <td>1</td>\n",
              "    </tr>\n",
              "    <tr>\n",
              "      <th>5</th>\n",
              "      <td>Tata Metaliks Standalone June 2021 Net Sales a...</td>\n",
              "      <td>2</td>\n",
              "      <td>2</td>\n",
              "    </tr>\n",
              "    <tr>\n",
              "      <th>6</th>\n",
              "      <td>Hot Stocks | Tata Metaliks, Sutlej Textiles ca...</td>\n",
              "      <td>1</td>\n",
              "      <td>2</td>\n",
              "    </tr>\n",
              "    <tr>\n",
              "      <th>7</th>\n",
              "      <td>Tata Metaliks among 6 momentum stocks to buy f...</td>\n",
              "      <td>1</td>\n",
              "      <td>2</td>\n",
              "    </tr>\n",
              "    <tr>\n",
              "      <th>8</th>\n",
              "      <td>Stocks in news: Maruti Suzuki, Reliance Indust...</td>\n",
              "      <td>2</td>\n",
              "      <td>2</td>\n",
              "    </tr>\n",
              "    <tr>\n",
              "      <th>9</th>\n",
              "      <td>There's A Lot To Like About Tata Metaliks' (NS...</td>\n",
              "      <td>2</td>\n",
              "      <td>2</td>\n",
              "    </tr>\n",
              "  </tbody>\n",
              "</table>\n",
              "</div>\n",
              "      <button class=\"colab-df-convert\" onclick=\"convertToInteractive('df-e431b9ea-a95e-4179-bbf0-7067cedbb448')\"\n",
              "              title=\"Convert this dataframe to an interactive table.\"\n",
              "              style=\"display:none;\">\n",
              "        \n",
              "  <svg xmlns=\"http://www.w3.org/2000/svg\" height=\"24px\"viewBox=\"0 0 24 24\"\n",
              "       width=\"24px\">\n",
              "    <path d=\"M0 0h24v24H0V0z\" fill=\"none\"/>\n",
              "    <path d=\"M18.56 5.44l.94 2.06.94-2.06 2.06-.94-2.06-.94-.94-2.06-.94 2.06-2.06.94zm-11 1L8.5 8.5l.94-2.06 2.06-.94-2.06-.94L8.5 2.5l-.94 2.06-2.06.94zm10 10l.94 2.06.94-2.06 2.06-.94-2.06-.94-.94-2.06-.94 2.06-2.06.94z\"/><path d=\"M17.41 7.96l-1.37-1.37c-.4-.4-.92-.59-1.43-.59-.52 0-1.04.2-1.43.59L10.3 9.45l-7.72 7.72c-.78.78-.78 2.05 0 2.83L4 21.41c.39.39.9.59 1.41.59.51 0 1.02-.2 1.41-.59l7.78-7.78 2.81-2.81c.8-.78.8-2.07 0-2.86zM5.41 20L4 18.59l7.72-7.72 1.47 1.35L5.41 20z\"/>\n",
              "  </svg>\n",
              "      </button>\n",
              "      \n",
              "  <style>\n",
              "    .colab-df-container {\n",
              "      display:flex;\n",
              "      flex-wrap:wrap;\n",
              "      gap: 12px;\n",
              "    }\n",
              "\n",
              "    .colab-df-convert {\n",
              "      background-color: #E8F0FE;\n",
              "      border: none;\n",
              "      border-radius: 50%;\n",
              "      cursor: pointer;\n",
              "      display: none;\n",
              "      fill: #1967D2;\n",
              "      height: 32px;\n",
              "      padding: 0 0 0 0;\n",
              "      width: 32px;\n",
              "    }\n",
              "\n",
              "    .colab-df-convert:hover {\n",
              "      background-color: #E2EBFA;\n",
              "      box-shadow: 0px 1px 2px rgba(60, 64, 67, 0.3), 0px 1px 3px 1px rgba(60, 64, 67, 0.15);\n",
              "      fill: #174EA6;\n",
              "    }\n",
              "\n",
              "    [theme=dark] .colab-df-convert {\n",
              "      background-color: #3B4455;\n",
              "      fill: #D2E3FC;\n",
              "    }\n",
              "\n",
              "    [theme=dark] .colab-df-convert:hover {\n",
              "      background-color: #434B5C;\n",
              "      box-shadow: 0px 1px 3px 1px rgba(0, 0, 0, 0.15);\n",
              "      filter: drop-shadow(0px 1px 2px rgba(0, 0, 0, 0.3));\n",
              "      fill: #FFFFFF;\n",
              "    }\n",
              "  </style>\n",
              "\n",
              "      <script>\n",
              "        const buttonEl =\n",
              "          document.querySelector('#df-e431b9ea-a95e-4179-bbf0-7067cedbb448 button.colab-df-convert');\n",
              "        buttonEl.style.display =\n",
              "          google.colab.kernel.accessAllowed ? 'block' : 'none';\n",
              "\n",
              "        async function convertToInteractive(key) {\n",
              "          const element = document.querySelector('#df-e431b9ea-a95e-4179-bbf0-7067cedbb448');\n",
              "          const dataTable =\n",
              "            await google.colab.kernel.invokeFunction('convertToInteractive',\n",
              "                                                     [key], {});\n",
              "          if (!dataTable) return;\n",
              "\n",
              "          const docLinkHtml = 'Like what you see? Visit the ' +\n",
              "            '<a target=\"_blank\" href=https://colab.research.google.com/notebooks/data_table.ipynb>data table notebook</a>'\n",
              "            + ' to learn more about interactive tables.';\n",
              "          element.innerHTML = '';\n",
              "          dataTable['output_type'] = 'display_data';\n",
              "          await google.colab.output.renderOutput(dataTable, element);\n",
              "          const docLink = document.createElement('div');\n",
              "          docLink.innerHTML = docLinkHtml;\n",
              "          element.appendChild(docLink);\n",
              "        }\n",
              "      </script>\n",
              "    </div>\n",
              "  </div>\n",
              "  "
            ]
          },
          "metadata": {},
          "execution_count": 8
        }
      ]
    },
    {
      "cell_type": "code",
      "source": [
        "eda_df.shape"
      ],
      "metadata": {
        "colab": {
          "base_uri": "https://localhost:8080/"
        },
        "id": "46XIA0L4lx5K",
        "outputId": "0faa78af-06fe-4466-e65b-2dbdb70919b0"
      },
      "execution_count": null,
      "outputs": [
        {
          "output_type": "execute_result",
          "data": {
            "text/plain": [
              "(769, 3)"
            ]
          },
          "metadata": {},
          "execution_count": 9
        }
      ]
    },
    {
      "cell_type": "code",
      "source": [
        "eda_df.isnull().sum()"
      ],
      "metadata": {
        "colab": {
          "base_uri": "https://localhost:8080/"
        },
        "id": "ofFnKJtQmzT8",
        "outputId": "2fb7d0c5-b87b-4669-deca-f01afb3c253f"
      },
      "execution_count": null,
      "outputs": [
        {
          "output_type": "execute_result",
          "data": {
            "text/plain": [
              "title1       0\n",
              "Time         0\n",
              "Sentiment    0\n",
              "dtype: int64"
            ]
          },
          "metadata": {},
          "execution_count": 10
        }
      ]
    },
    {
      "cell_type": "code",
      "source": [
        "eda_df['Time'].hist() # Unknown:0,future:1,past/current:2"
      ],
      "metadata": {
        "colab": {
          "base_uri": "https://localhost:8080/",
          "height": 282
        },
        "id": "Uz7auPXwr4UG",
        "outputId": "9a2eef6c-58ad-47eb-8760-ebaeda710b6f"
      },
      "execution_count": null,
      "outputs": [
        {
          "output_type": "execute_result",
          "data": {
            "text/plain": [
              "<matplotlib.axes._subplots.AxesSubplot at 0x7fc3b767ac50>"
            ]
          },
          "metadata": {},
          "execution_count": 11
        },
        {
          "output_type": "display_data",
          "data": {
            "text/plain": [
              "<Figure size 432x288 with 1 Axes>"
            ],
            "image/png": "[encoded data removed]"
          },
          "metadata": {
            "needs_background": "light"
          }
        }
      ]
    },
    {
      "cell_type": "code",
      "source": [
        "eda_df['Sentiment'].hist() # n:0,p:1,z:2"
      ],
      "metadata": {
        "colab": {
          "base_uri": "https://localhost:8080/",
          "height": 282
        },
        "id": "WRHUqxu1r8XI",
        "outputId": "e70b7038-105b-4971-fea4-46b975240fd9"
      },
      "execution_count": null,
      "outputs": [
        {
          "output_type": "execute_result",
          "data": {
            "text/plain": [
              "<matplotlib.axes._subplots.AxesSubplot at 0x7fc3b7616b10>"
            ]
          },
          "metadata": {},
          "execution_count": 12
        },
        {
          "output_type": "display_data",
          "data": {
            "text/plain": [
              "<Figure size 432x288 with 1 Axes>"
            ],
            "image/png": "[encoded data removed]"
          },
          "metadata": {
            "needs_background": "light"
          }
        }
      ]
    },
    {
      "cell_type": "markdown",
      "source": [
        "Data Clean-up for NLP Sentiment Analysis"
      ],
      "metadata": {
        "id": "5RfjB-BXh4YL"
      }
    },
    {
      "cell_type": "code",
      "source": [
        "df = df.drop([\"Time\"], axis = 1)\n",
        "df"
      ],
      "metadata": {
        "colab": {
          "base_uri": "https://localhost:8080/",
          "height": 424
        },
        "id": "Y0PnAM4Pzip3",
        "outputId": "5d274da9-67bc-410d-b816-168f92e684e6"
      },
      "execution_count": null,
      "outputs": [
        {
          "output_type": "execute_result",
          "data": {
            "text/plain": [
              "                                                title1 Sentiment\n",
              "0    Tata Metaliks reports Rs 94.72 crore net profi...         z\n",
              "1    Tata Metaliks gains 8% after strong June quart...         p\n",
              "2    Top stocks to buy with Anil Singhvi: Tata Meta...         z\n",
              "3    Stocks in focus: Tata Metaliks, Zuari Agro Che...         z\n",
              "4    Tata Metaliks: Preferred stock to play the wat...         p\n",
              "..                                                 ...       ...\n",
              "764  Tata Steel deploys first biofuel-powered ship ...         p\n",
              "765  Tata Steel interested in acquiring Vizag-based...         p\n",
              "766         Inside Tata Steel's Digital Transformation         p\n",
              "767  Board of Tata Steel approves allotment of 1.82...         p\n",
              "768  Surging steel prices not to affect domestic de...         p\n",
              "\n",
              "[769 rows x 2 columns]"
            ],
            "text/html": [
              "\n",
              "  <div id=\"df-7a36e408-0832-4b38-aea8-7b5a68a423a0\">\n",
              "    <div class=\"colab-df-container\">\n",
              "      <div>\n",
              "<style scoped>\n",
              "    .dataframe tbody tr th:only-of-type {\n",
              "        vertical-align: middle;\n",
              "    }\n",
              "\n",
              "    .dataframe tbody tr th {\n",
              "        vertical-align: top;\n",
              "    }\n",
              "\n",
              "    .dataframe thead th {\n",
              "        text-align: right;\n",
              "    }\n",
              "</style>\n",
              "<table border=\"1\" class=\"dataframe\">\n",
              "  <thead>\n",
              "    <tr style=\"text-align: right;\">\n",
              "      <th></th>\n",
              "      <th>title1</th>\n",
              "      <th>Sentiment</th>\n",
              "    </tr>\n",
              "  </thead>\n",
              "  <tbody>\n",
              "    <tr>\n",
              "      <th>0</th>\n",
              "      <td>Tata Metaliks reports Rs 94.72 crore net profi...</td>\n",
              "      <td>z</td>\n",
              "    </tr>\n",
              "    <tr>\n",
              "      <th>1</th>\n",
              "      <td>Tata Metaliks gains 8% after strong June quart...</td>\n",
              "      <td>p</td>\n",
              "    </tr>\n",
              "    <tr>\n",
              "      <th>2</th>\n",
              "      <td>Top stocks to buy with Anil Singhvi: Tata Meta...</td>\n",
              "      <td>z</td>\n",
              "    </tr>\n",
              "    <tr>\n",
              "      <th>3</th>\n",
              "      <td>Stocks in focus: Tata Metaliks, Zuari Agro Che...</td>\n",
              "      <td>z</td>\n",
              "    </tr>\n",
              "    <tr>\n",
              "      <th>4</th>\n",
              "      <td>Tata Metaliks: Preferred stock to play the wat...</td>\n",
              "      <td>p</td>\n",
              "    </tr>\n",
              "    <tr>\n",
              "      <th>...</th>\n",
              "      <td>...</td>\n",
              "      <td>...</td>\n",
              "    </tr>\n",
              "    <tr>\n",
              "      <th>764</th>\n",
              "      <td>Tata Steel deploys first biofuel-powered ship ...</td>\n",
              "      <td>p</td>\n",
              "    </tr>\n",
              "    <tr>\n",
              "      <th>765</th>\n",
              "      <td>Tata Steel interested in acquiring Vizag-based...</td>\n",
              "      <td>p</td>\n",
              "    </tr>\n",
              "    <tr>\n",
              "      <th>766</th>\n",
              "      <td>Inside Tata Steel's Digital Transformation</td>\n",
              "      <td>p</td>\n",
              "    </tr>\n",
              "    <tr>\n",
              "      <th>767</th>\n",
              "      <td>Board of Tata Steel approves allotment of 1.82...</td>\n",
              "      <td>p</td>\n",
              "    </tr>\n",
              "    <tr>\n",
              "      <th>768</th>\n",
              "      <td>Surging steel prices not to affect domestic de...</td>\n",
              "      <td>p</td>\n",
              "    </tr>\n",
              "  </tbody>\n",
              "</table>\n",
              "<p>769 rows × 2 columns</p>\n",
              "</div>\n",
              "      <button class=\"colab-df-convert\" onclick=\"convertToInteractive('df-7a36e408-0832-4b38-aea8-7b5a68a423a0')\"\n",
              "              title=\"Convert this dataframe to an interactive table.\"\n",
              "              style=\"display:none;\">\n",
              "        \n",
              "  <svg xmlns=\"http://www.w3.org/2000/svg\" height=\"24px\"viewBox=\"0 0 24 24\"\n",
              "       width=\"24px\">\n",
              "    <path d=\"M0 0h24v24H0V0z\" fill=\"none\"/>\n",
              "    <path d=\"M18.56 5.44l.94 2.06.94-2.06 2.06-.94-2.06-.94-.94-2.06-.94 2.06-2.06.94zm-11 1L8.5 8.5l.94-2.06 2.06-.94-2.06-.94L8.5 2.5l-.94 2.06-2.06.94zm10 10l.94 2.06.94-2.06 2.06-.94-2.06-.94-.94-2.06-.94 2.06-2.06.94z\"/><path d=\"M17.41 7.96l-1.37-1.37c-.4-.4-.92-.59-1.43-.59-.52 0-1.04.2-1.43.59L10.3 9.45l-7.72 7.72c-.78.78-.78 2.05 0 2.83L4 21.41c.39.39.9.59 1.41.59.51 0 1.02-.2 1.41-.59l7.78-7.78 2.81-2.81c.8-.78.8-2.07 0-2.86zM5.41 20L4 18.59l7.72-7.72 1.47 1.35L5.41 20z\"/>\n",
              "  </svg>\n",
              "      </button>\n",
              "      \n",
              "  <style>\n",
              "    .colab-df-container {\n",
              "      display:flex;\n",
              "      flex-wrap:wrap;\n",
              "      gap: 12px;\n",
              "    }\n",
              "\n",
              "    .colab-df-convert {\n",
              "      background-color: #E8F0FE;\n",
              "      border: none;\n",
              "      border-radius: 50%;\n",
              "      cursor: pointer;\n",
              "      display: none;\n",
              "      fill: #1967D2;\n",
              "      height: 32px;\n",
              "      padding: 0 0 0 0;\n",
              "      width: 32px;\n",
              "    }\n",
              "\n",
              "    .colab-df-convert:hover {\n",
              "      background-color: #E2EBFA;\n",
              "      box-shadow: 0px 1px 2px rgba(60, 64, 67, 0.3), 0px 1px 3px 1px rgba(60, 64, 67, 0.15);\n",
              "      fill: #174EA6;\n",
              "    }\n",
              "\n",
              "    [theme=dark] .colab-df-convert {\n",
              "      background-color: #3B4455;\n",
              "      fill: #D2E3FC;\n",
              "    }\n",
              "\n",
              "    [theme=dark] .colab-df-convert:hover {\n",
              "      background-color: #434B5C;\n",
              "      box-shadow: 0px 1px 3px 1px rgba(0, 0, 0, 0.15);\n",
              "      filter: drop-shadow(0px 1px 2px rgba(0, 0, 0, 0.3));\n",
              "      fill: #FFFFFF;\n",
              "    }\n",
              "  </style>\n",
              "\n",
              "      <script>\n",
              "        const buttonEl =\n",
              "          document.querySelector('#df-7a36e408-0832-4b38-aea8-7b5a68a423a0 button.colab-df-convert');\n",
              "        buttonEl.style.display =\n",
              "          google.colab.kernel.accessAllowed ? 'block' : 'none';\n",
              "\n",
              "        async function convertToInteractive(key) {\n",
              "          const element = document.querySelector('#df-7a36e408-0832-4b38-aea8-7b5a68a423a0');\n",
              "          const dataTable =\n",
              "            await google.colab.kernel.invokeFunction('convertToInteractive',\n",
              "                                                     [key], {});\n",
              "          if (!dataTable) return;\n",
              "\n",
              "          const docLinkHtml = 'Like what you see? Visit the ' +\n",
              "            '<a target=\"_blank\" href=https://colab.research.google.com/notebooks/data_table.ipynb>data table notebook</a>'\n",
              "            + ' to learn more about interactive tables.';\n",
              "          element.innerHTML = '';\n",
              "          dataTable['output_type'] = 'display_data';\n",
              "          await google.colab.output.renderOutput(dataTable, element);\n",
              "          const docLink = document.createElement('div');\n",
              "          docLink.innerHTML = docLinkHtml;\n",
              "          element.appendChild(docLink);\n",
              "        }\n",
              "      </script>\n",
              "    </div>\n",
              "  </div>\n",
              "  "
            ]
          },
          "metadata": {},
          "execution_count": 13
        }
      ]
    },
    {
      "cell_type": "code",
      "source": [
        "def cleanup(news_titles):\n",
        "  # all news headlines to lower case\n",
        "  news_titles = news_titles.apply(lambda x: \" \".join(x.lower() for x in str(x).split()))\n",
        "\n",
        "  # remove non-alpha characters\n",
        "  news_titles = news_titles.apply(lambda x: \" \".join([re.sub('[^A-Za-z]+','', x) for x in nltk.word_tokenize(x)]))\n",
        "\n",
        "  # remove stop words\n",
        "  news_titles = news_titles.apply(lambda x: \" \".join([x for x in x.split() if x not in stopwords.words('english')]))\n",
        "\n",
        "  # perform lemmatization\n",
        "  news_titles = news_titles.apply(lambda x: \" \".join([WordNetLemmatizer().lemmatize(w) for w in nltk.word_tokenize(x)]))\n",
        "\n",
        "  return news_titles"
      ],
      "metadata": {
        "id": "uYigLBXah0KB"
      },
      "execution_count": null,
      "outputs": []
    },
    {
      "cell_type": "code",
      "source": [
        "df[\"r_title\"] = cleanup(df[\"title1\"])\n",
        "df"
      ],
      "metadata": {
        "id": "WxBxE729jQEK",
        "colab": {
          "base_uri": "https://localhost:8080/",
          "height": 424
        },
        "outputId": "46f6c195-d8e0-4ae1-d5e8-4c43e962d261"
      },
      "execution_count": null,
      "outputs": [
        {
          "output_type": "execute_result",
          "data": {
            "text/plain": [
              "                                                title1 Sentiment  \\\n",
              "0    Tata Metaliks reports Rs 94.72 crore net profi...         z   \n",
              "1    Tata Metaliks gains 8% after strong June quart...         p   \n",
              "2    Top stocks to buy with Anil Singhvi: Tata Meta...         z   \n",
              "3    Stocks in focus: Tata Metaliks, Zuari Agro Che...         z   \n",
              "4    Tata Metaliks: Preferred stock to play the wat...         p   \n",
              "..                                                 ...       ...   \n",
              "764  Tata Steel deploys first biofuel-powered ship ...         p   \n",
              "765  Tata Steel interested in acquiring Vizag-based...         p   \n",
              "766         Inside Tata Steel's Digital Transformation         p   \n",
              "767  Board of Tata Steel approves allotment of 1.82...         p   \n",
              "768  Surging steel prices not to affect domestic de...         p   \n",
              "\n",
              "                                               r_title  \n",
              "0    tata metaliks report r crore net profit june q...  \n",
              "1    tata metaliks gain strong june quarter perform...  \n",
              "2    top stock buy anil singhvi tata metaliks ltd s...  \n",
              "3            stock focus tata metaliks zuari agro chem  \n",
              "4    tata metaliks preferred stock play water infra...  \n",
              "..                                                 ...  \n",
              "764  tata steel deploys first biofuelpowered ship i...  \n",
              "765  tata steel interested acquiring vizagbased rin...  \n",
              "766           inside tata steel digital transformation  \n",
              "767  board tata steel approves allotment cr equity ...  \n",
              "768  surging steel price affect domestic demand say...  \n",
              "\n",
              "[769 rows x 3 columns]"
            ],
            "text/html": [
              "\n",
              "  <div id=\"df-141ff4e9-368e-40cd-a344-8b654ecc78df\">\n",
              "    <div class=\"colab-df-container\">\n",
              "      <div>\n",
              "<style scoped>\n",
              "    .dataframe tbody tr th:only-of-type {\n",
              "        vertical-align: middle;\n",
              "    }\n",
              "\n",
              "    .dataframe tbody tr th {\n",
              "        vertical-align: top;\n",
              "    }\n",
              "\n",
              "    .dataframe thead th {\n",
              "        text-align: right;\n",
              "    }\n",
              "</style>\n",
              "<table border=\"1\" class=\"dataframe\">\n",
              "  <thead>\n",
              "    <tr style=\"text-align: right;\">\n",
              "      <th></th>\n",
              "      <th>title1</th>\n",
              "      <th>Sentiment</th>\n",
              "      <th>r_title</th>\n",
              "    </tr>\n",
              "  </thead>\n",
              "  <tbody>\n",
              "    <tr>\n",
              "      <th>0</th>\n",
              "      <td>Tata Metaliks reports Rs 94.72 crore net profi...</td>\n",
              "      <td>z</td>\n",
              "      <td>tata metaliks report r crore net profit june q...</td>\n",
              "    </tr>\n",
              "    <tr>\n",
              "      <th>1</th>\n",
              "      <td>Tata Metaliks gains 8% after strong June quart...</td>\n",
              "      <td>p</td>\n",
              "      <td>tata metaliks gain strong june quarter perform...</td>\n",
              "    </tr>\n",
              "    <tr>\n",
              "      <th>2</th>\n",
              "      <td>Top stocks to buy with Anil Singhvi: Tata Meta...</td>\n",
              "      <td>z</td>\n",
              "      <td>top stock buy anil singhvi tata metaliks ltd s...</td>\n",
              "    </tr>\n",
              "    <tr>\n",
              "      <th>3</th>\n",
              "      <td>Stocks in focus: Tata Metaliks, Zuari Agro Che...</td>\n",
              "      <td>z</td>\n",
              "      <td>stock focus tata metaliks zuari agro chem</td>\n",
              "    </tr>\n",
              "    <tr>\n",
              "      <th>4</th>\n",
              "      <td>Tata Metaliks: Preferred stock to play the wat...</td>\n",
              "      <td>p</td>\n",
              "      <td>tata metaliks preferred stock play water infra...</td>\n",
              "    </tr>\n",
              "    <tr>\n",
              "      <th>...</th>\n",
              "      <td>...</td>\n",
              "      <td>...</td>\n",
              "      <td>...</td>\n",
              "    </tr>\n",
              "    <tr>\n",
              "      <th>764</th>\n",
              "      <td>Tata Steel deploys first biofuel-powered ship ...</td>\n",
              "      <td>p</td>\n",
              "      <td>tata steel deploys first biofuelpowered ship i...</td>\n",
              "    </tr>\n",
              "    <tr>\n",
              "      <th>765</th>\n",
              "      <td>Tata Steel interested in acquiring Vizag-based...</td>\n",
              "      <td>p</td>\n",
              "      <td>tata steel interested acquiring vizagbased rin...</td>\n",
              "    </tr>\n",
              "    <tr>\n",
              "      <th>766</th>\n",
              "      <td>Inside Tata Steel's Digital Transformation</td>\n",
              "      <td>p</td>\n",
              "      <td>inside tata steel digital transformation</td>\n",
              "    </tr>\n",
              "    <tr>\n",
              "      <th>767</th>\n",
              "      <td>Board of Tata Steel approves allotment of 1.82...</td>\n",
              "      <td>p</td>\n",
              "      <td>board tata steel approves allotment cr equity ...</td>\n",
              "    </tr>\n",
              "    <tr>\n",
              "      <th>768</th>\n",
              "      <td>Surging steel prices not to affect domestic de...</td>\n",
              "      <td>p</td>\n",
              "      <td>surging steel price affect domestic demand say...</td>\n",
              "    </tr>\n",
              "  </tbody>\n",
              "</table>\n",
              "<p>769 rows × 3 columns</p>\n",
              "</div>\n",
              "      <button class=\"colab-df-convert\" onclick=\"convertToInteractive('df-141ff4e9-368e-40cd-a344-8b654ecc78df')\"\n",
              "              title=\"Convert this dataframe to an interactive table.\"\n",
              "              style=\"display:none;\">\n",
              "        \n",
              "  <svg xmlns=\"http://www.w3.org/2000/svg\" height=\"24px\"viewBox=\"0 0 24 24\"\n",
              "       width=\"24px\">\n",
              "    <path d=\"M0 0h24v24H0V0z\" fill=\"none\"/>\n",
              "    <path d=\"M18.56 5.44l.94 2.06.94-2.06 2.06-.94-2.06-.94-.94-2.06-.94 2.06-2.06.94zm-11 1L8.5 8.5l.94-2.06 2.06-.94-2.06-.94L8.5 2.5l-.94 2.06-2.06.94zm10 10l.94 2.06.94-2.06 2.06-.94-2.06-.94-.94-2.06-.94 2.06-2.06.94z\"/><path d=\"M17.41 7.96l-1.37-1.37c-.4-.4-.92-.59-1.43-.59-.52 0-1.04.2-1.43.59L10.3 9.45l-7.72 7.72c-.78.78-.78 2.05 0 2.83L4 21.41c.39.39.9.59 1.41.59.51 0 1.02-.2 1.41-.59l7.78-7.78 2.81-2.81c.8-.78.8-2.07 0-2.86zM5.41 20L4 18.59l7.72-7.72 1.47 1.35L5.41 20z\"/>\n",
              "  </svg>\n",
              "      </button>\n",
              "      \n",
              "  <style>\n",
              "    .colab-df-container {\n",
              "      display:flex;\n",
              "      flex-wrap:wrap;\n",
              "      gap: 12px;\n",
              "    }\n",
              "\n",
              "    .colab-df-convert {\n",
              "      background-color: #E8F0FE;\n",
              "      border: none;\n",
              "      border-radius: 50%;\n",
              "      cursor: pointer;\n",
              "      display: none;\n",
              "      fill: #1967D2;\n",
              "      height: 32px;\n",
              "      padding: 0 0 0 0;\n",
              "      width: 32px;\n",
              "    }\n",
              "\n",
              "    .colab-df-convert:hover {\n",
              "      background-color: #E2EBFA;\n",
              "      box-shadow: 0px 1px 2px rgba(60, 64, 67, 0.3), 0px 1px 3px 1px rgba(60, 64, 67, 0.15);\n",
              "      fill: #174EA6;\n",
              "    }\n",
              "\n",
              "    [theme=dark] .colab-df-convert {\n",
              "      background-color: #3B4455;\n",
              "      fill: #D2E3FC;\n",
              "    }\n",
              "\n",
              "    [theme=dark] .colab-df-convert:hover {\n",
              "      background-color: #434B5C;\n",
              "      box-shadow: 0px 1px 3px 1px rgba(0, 0, 0, 0.15);\n",
              "      filter: drop-shadow(0px 1px 2px rgba(0, 0, 0, 0.3));\n",
              "      fill: #FFFFFF;\n",
              "    }\n",
              "  </style>\n",
              "\n",
              "      <script>\n",
              "        const buttonEl =\n",
              "          document.querySelector('#df-141ff4e9-368e-40cd-a344-8b654ecc78df button.colab-df-convert');\n",
              "        buttonEl.style.display =\n",
              "          google.colab.kernel.accessAllowed ? 'block' : 'none';\n",
              "\n",
              "        async function convertToInteractive(key) {\n",
              "          const element = document.querySelector('#df-141ff4e9-368e-40cd-a344-8b654ecc78df');\n",
              "          const dataTable =\n",
              "            await google.colab.kernel.invokeFunction('convertToInteractive',\n",
              "                                                     [key], {});\n",
              "          if (!dataTable) return;\n",
              "\n",
              "          const docLinkHtml = 'Like what you see? Visit the ' +\n",
              "            '<a target=\"_blank\" href=https://colab.research.google.com/notebooks/data_table.ipynb>data table notebook</a>'\n",
              "            + ' to learn more about interactive tables.';\n",
              "          element.innerHTML = '';\n",
              "          dataTable['output_type'] = 'display_data';\n",
              "          await google.colab.output.renderOutput(dataTable, element);\n",
              "          const docLink = document.createElement('div');\n",
              "          docLink.innerHTML = docLinkHtml;\n",
              "          element.appendChild(docLink);\n",
              "        }\n",
              "      </script>\n",
              "    </div>\n",
              "  </div>\n",
              "  "
            ]
          },
          "metadata": {},
          "execution_count": 15
        }
      ]
    },
    {
      "cell_type": "code",
      "source": [
        "# Train-Test split\n",
        "\n",
        "X_train, X_test, y_train, y_test = train_test_split(df['r_title'], df['Sentiment'], test_size=0.25, random_state=30, stratify = df[\"Sentiment\"])\n",
        "print(\"Train: \", X_train.shape, y_train.shape, \"Test: \", (X_test.shape, y_test.shape))"
      ],
      "metadata": {
        "id": "P9Of9XBwidYF",
        "colab": {
          "base_uri": "https://localhost:8080/"
        },
        "outputId": "f90a7f8a-2b9c-4468-f3b4-68295b23f069"
      },
      "execution_count": null,
      "outputs": [
        {
          "output_type": "stream",
          "name": "stdout",
          "text": [
            "Train:  (576,) (576,) Test:  ((193,), (193,))\n"
          ]
        }
      ]
    },
    {
      "cell_type": "markdown",
      "source": [
        "Count Vectorizer"
      ],
      "metadata": {
        "id": "jJccscDgg9pW"
      }
    },
    {
      "cell_type": "code",
      "source": [
        "count_vectorizer = CountVectorizer()\n",
        "count_train = count_vectorizer.fit_transform(X_train, y_train)\n",
        "count_test = count_vectorizer.transform(X_test)"
      ],
      "metadata": {
        "id": "vQaSk_Jlkscq"
      },
      "execution_count": null,
      "outputs": []
    },
    {
      "cell_type": "code",
      "source": [
        "# saving vectorizer as pickle dump\n",
        "pickle.dump(count_vectorizer, open(\"c_vectorizer.pkl\",'wb'))"
      ],
      "metadata": {
        "id": "HbhuUJolkuz9"
      },
      "execution_count": null,
      "outputs": []
    },
    {
      "cell_type": "markdown",
      "source": [
        "Hyperparameter Tuning via GridSearch"
      ],
      "metadata": {
        "id": "iJR216yjlN-N"
      }
    },
    {
      "cell_type": "code",
      "source": [
        "# SVM\n",
        "\n",
        "svm = SVC()\n",
        "svm.get_params().keys()"
      ],
      "metadata": {
        "id": "iqC9zBI7ig2_",
        "colab": {
          "base_uri": "https://localhost:8080/"
        },
        "outputId": "4543a364-61c1-42d2-ed1e-1d39e488a78a"
      },
      "execution_count": null,
      "outputs": [
        {
          "output_type": "execute_result",
          "data": {
            "text/plain": [
              "dict_keys(['C', 'break_ties', 'cache_size', 'class_weight', 'coef0', 'decision_function_shape', 'degree', 'gamma', 'kernel', 'max_iter', 'probability', 'random_state', 'shrinking', 'tol', 'verbose'])"
            ]
          },
          "metadata": {},
          "execution_count": 19
        }
      ]
    },
    {
      "cell_type": "code",
      "source": [
        "param_grid = {'C': [0.1, 1, 10, 100, 1000],\n",
        "              'degree' :[2, 3, 4, 5, 6],\n",
        "              'gamma': [1, 0.1, 0.01, 0.001, 0.0001],\n",
        "              'kernel': ['rbf']}"
      ],
      "metadata": {
        "id": "2AJV6tzjkeFx"
      },
      "execution_count": null,
      "outputs": []
    },
    {
      "cell_type": "code",
      "source": [
        "cv = RepeatedStratifiedKFold(n_splits=10, n_repeats=3, random_state=1)\n",
        "grid = GridSearchCV(svm, param_grid, n_jobs=-1, cv=cv, refit=True, verbose=2,error_score=0)\n",
        "best_model_c = grid.fit(count_train, y_train)"
      ],
      "metadata": {
        "id": "Zv89ag1JlTxC",
        "colab": {
          "base_uri": "https://localhost:8080/"
        },
        "outputId": "b0fdea5d-0fdc-4d8e-e8b1-2fcb01e0c7e4"
      },
      "execution_count": null,
      "outputs": [
        {
          "output_type": "stream",
          "name": "stdout",
          "text": [
            "Fitting 30 folds for each of 125 candidates, totalling 3750 fits\n"
          ]
        }
      ]
    },
    {
      "cell_type": "code",
      "source": [
        "# fitting the model for grid search\n",
        "print(best_model_c.best_score_, best_model_c.best_params_)"
      ],
      "metadata": {
        "id": "rGg09NN9lL9L",
        "colab": {
          "base_uri": "https://localhost:8080/"
        },
        "outputId": "6bea468a-2530-4919-99bc-39b3752938a5"
      },
      "execution_count": null,
      "outputs": [
        {
          "output_type": "stream",
          "name": "stdout",
          "text": [
            "0.8119681387376487 {'C': 100, 'degree': 2, 'gamma': 0.001, 'kernel': 'rbf'}\n"
          ]
        }
      ]
    },
    {
      "cell_type": "markdown",
      "source": [
        "Training and Testing Accuracy - by SVM (an ML Classifier)"
      ],
      "metadata": {
        "id": "gDwdG93hj4w-"
      }
    },
    {
      "cell_type": "code",
      "source": [
        "svm = SVC(C = 100, degree = 2, gamma=0.001, kernel= 'rbf')\n",
        "svm.fit(count_train,y_train)\n",
        "y_test_pred_c = svm.predict(count_test)\n",
        "svm_acc = accuracy_score(y_test, y_test_pred_c)\n",
        "print(\"SVM: \", svm_acc)"
      ],
      "metadata": {
        "id": "wUDYM1jSqtI2",
        "colab": {
          "base_uri": "https://localhost:8080/"
        },
        "outputId": "9fc52fe6-f15f-4a9e-cc34-f41c4f3ee386"
      },
      "execution_count": null,
      "outputs": [
        {
          "output_type": "stream",
          "name": "stdout",
          "text": [
            "SVM:  0.8549222797927462\n"
          ]
        }
      ]
    },
    {
      "cell_type": "code",
      "source": [
        "from sklearn.metrics import plot_confusion_matrix"
      ],
      "metadata": {
        "id": "YjONoUpjqu3O"
      },
      "execution_count": null,
      "outputs": []
    },
    {
      "cell_type": "code",
      "source": [
        "grid_predictions = grid.predict(count_test)\n",
        "plot_confusion_matrix(svm, count_test, y_test)"
      ],
      "metadata": {
        "id": "tjw9EReKlepi",
        "colab": {
          "base_uri": "https://localhost:8080/",
          "height": 355
        },
        "outputId": "7aec03e2-2775-448b-eed3-3e0cd5a09fcc"
      },
      "execution_count": null,
      "outputs": [
        {
          "output_type": "stream",
          "name": "stderr",
          "text": [
            "/usr/local/lib/python3.7/dist-packages/sklearn/utils/deprecation.py:87: FutureWarning: Function plot_confusion_matrix is deprecated; Function `plot_confusion_matrix` is deprecated in 1.0 and will be removed in 1.2. Use one of the class methods: ConfusionMatrixDisplay.from_predictions or ConfusionMatrixDisplay.from_estimator.\n",
            "  warnings.warn(msg, category=FutureWarning)\n"
          ]
        },
        {
          "output_type": "execute_result",
          "data": {
            "text/plain": [
              "<sklearn.metrics._plot.confusion_matrix.ConfusionMatrixDisplay at 0x7fc3b25fa6d0>"
            ]
          },
          "metadata": {},
          "execution_count": 35
        },
        {
          "output_type": "display_data",
          "data": {
            "text/plain": [
              "<Figure size 432x288 with 2 Axes>"
            ],
            "image/png": "[encoded data removed]"
          },
          "metadata": {
            "needs_background": "light"
          }
        }
      ]
    },
    {
      "cell_type": "markdown",
      "source": [
        "Saving the model as pickle dump"
      ],
      "metadata": {
        "id": "P3WIp0wdlnp3"
      }
    },
    {
      "cell_type": "code",
      "source": [
        "filename = 'sentiment-model_count.pkl'\n",
        "pickle.dump(svm, open(filename, 'wb'))"
      ],
      "metadata": {
        "id": "2I49NX3qllb3"
      },
      "execution_count": null,
      "outputs": []
    },
    {
      "cell_type": "markdown",
      "source": [
        "Tf-Idf Vectorizer"
      ],
      "metadata": {
        "id": "v1O8WJIItzA-"
      }
    },
    {
      "cell_type": "code",
      "source": [
        "tfidf_vectorizer = TfidfVectorizer()\n",
        "\n",
        "tf_x_train = tfidf_vectorizer.fit_transform(X_train)\n",
        "tf_x_test = tfidf_vectorizer.transform(X_test)"
      ],
      "metadata": {
        "id": "y5WKSCPftM_Y"
      },
      "execution_count": null,
      "outputs": []
    },
    {
      "cell_type": "code",
      "source": [
        "# saving vectorizer as pickle dump\n",
        "\n",
        "pickle.dump(tfidf_vectorizer, open(\"tfidf_vectorizer.pkl\",'wb'))"
      ],
      "metadata": {
        "id": "_lB2bp3AuOs1"
      },
      "execution_count": null,
      "outputs": []
    },
    {
      "cell_type": "markdown",
      "source": [
        "Hyperparameter Tuning via GridSearch"
      ],
      "metadata": {
        "id": "ZyFwttfVu8gL"
      }
    },
    {
      "cell_type": "code",
      "source": [
        "# SVM\n",
        "    \n",
        "clf = SVC()\n",
        "clf.get_params().keys()"
      ],
      "metadata": {
        "id": "R_0cmWG2uSta",
        "colab": {
          "base_uri": "https://localhost:8080/"
        },
        "outputId": "e595a795-06ed-424a-d516-effb3db8ac9f"
      },
      "execution_count": null,
      "outputs": [
        {
          "output_type": "execute_result",
          "data": {
            "text/plain": [
              "dict_keys(['C', 'break_ties', 'cache_size', 'class_weight', 'coef0', 'decision_function_shape', 'degree', 'gamma', 'kernel', 'max_iter', 'probability', 'random_state', 'shrinking', 'tol', 'verbose'])"
            ]
          },
          "metadata": {},
          "execution_count": 39
        }
      ]
    },
    {
      "cell_type": "code",
      "source": [
        "param_grid = {'C': [0.1, 1, 10, 100, 1000],\n",
        "              'degree' :[2, 3, 4, 5, 6],\n",
        "              'gamma': [1, 0.1, 0.01, 0.001, 0.0001],\n",
        "              'kernel': ['rbf']}"
      ],
      "metadata": {
        "id": "wyBQ6INSvBr1"
      },
      "execution_count": null,
      "outputs": []
    },
    {
      "cell_type": "code",
      "source": [
        "cv = RepeatedStratifiedKFold(n_splits=10, n_repeats=3, random_state=1)\n",
        "grid = GridSearchCV(clf,param_grid,n_jobs=-1,cv=cv,refit=True,verbose=2,error_score=0)\n",
        "\n",
        "# fitting the model for grid search\n",
        "best_model_t = grid.fit(tf_x_train, y_train)"
      ],
      "metadata": {
        "id": "zTHdlgqcvNZm",
        "colab": {
          "base_uri": "https://localhost:8080/"
        },
        "outputId": "d4bd81bf-5d46-4ce6-850e-1f39df8e9494"
      },
      "execution_count": null,
      "outputs": [
        {
          "output_type": "stream",
          "name": "stdout",
          "text": [
            "Fitting 30 folds for each of 125 candidates, totalling 3750 fits\n"
          ]
        }
      ]
    },
    {
      "cell_type": "code",
      "source": [
        "print(best_model_t.best_score_, best_model_t.best_params_)"
      ],
      "metadata": {
        "id": "oYBoZXtevJVu",
        "colab": {
          "base_uri": "https://localhost:8080/"
        },
        "outputId": "6af6c8ad-8598-4a91-e811-a98b82e64caa"
      },
      "execution_count": null,
      "outputs": [
        {
          "output_type": "stream",
          "name": "stdout",
          "text": [
            "0.7963299052228271 {'C': 10, 'degree': 2, 'gamma': 0.1, 'kernel': 'rbf'}\n"
          ]
        }
      ]
    },
    {
      "cell_type": "code",
      "source": [
        "clf = SVC(C=10, degree= 2, gamma= 0.1, kernel= 'rbf')\n",
        "clf.fit(tf_x_train, y_train)\n",
        "\n",
        "y_test_pred_t = clf.predict(tf_x_test)\n",
        "svm_acc_t = accuracy_score(y_test, y_test_pred_t)\n",
        "print(\"SVM: \", svm_acc_t)"
      ],
      "metadata": {
        "id": "5oHbIsHMvcFn",
        "colab": {
          "base_uri": "https://localhost:8080/"
        },
        "outputId": "df44a25e-c5d6-43fb-9fc3-e6111a6afad9"
      },
      "execution_count": null,
      "outputs": [
        {
          "output_type": "stream",
          "name": "stdout",
          "text": [
            "SVM:  0.8186528497409327\n"
          ]
        }
      ]
    },
    {
      "cell_type": "code",
      "source": [
        "grid_predictions = grid.predict(tf_x_test)\n",
        "plot_confusion_matrix(clf, tf_x_test, y_test)"
      ],
      "metadata": {
        "id": "np0YXTNsvuZ_",
        "colab": {
          "base_uri": "https://localhost:8080/",
          "height": 351
        },
        "outputId": "11a62ba3-0f61-4c7d-b4be-befee0022245"
      },
      "execution_count": null,
      "outputs": [
        {
          "output_type": "stream",
          "name": "stderr",
          "text": [
            "/usr/local/lib/python3.7/dist-packages/sklearn/utils/deprecation.py:87: FutureWarning: Function plot_confusion_matrix is deprecated; Function `plot_confusion_matrix` is deprecated in 1.0 and will be removed in 1.2. Use one of the class methods: ConfusionMatrixDisplay.from_predictions or ConfusionMatrixDisplay.from_estimator.\n",
            "  warnings.warn(msg, category=FutureWarning)\n"
          ]
        },
        {
          "output_type": "execute_result",
          "data": {
            "text/plain": [
              "<sklearn.metrics._plot.confusion_matrix.ConfusionMatrixDisplay at 0x7fc3b25195d0>"
            ]
          },
          "metadata": {},
          "execution_count": 44
        },
        {
          "output_type": "display_data",
          "data": {
            "text/plain": [
              "<Figure size 432x288 with 2 Axes>"
            ],
            "image/png": "[encoded data removed]"
          },
          "metadata": {
            "needs_background": "light"
          }
        }
      ]
    },
    {
      "cell_type": "markdown",
      "source": [
        "Saving the model as pickle dump"
      ],
      "metadata": {
        "id": "h341rLPOv7ZN"
      }
    },
    {
      "cell_type": "code",
      "source": [
        "filename = 'sentiment-model_tfidf.pkl'\n",
        "pickle.dump(clf, open(filename, 'wb'))"
      ],
      "metadata": {
        "id": "EXtRxINevzXp"
      },
      "execution_count": null,
      "outputs": []
    },
    {
      "cell_type": "markdown",
      "source": [
        "Word2Vec Vectorizer"
      ],
      "metadata": {
        "id": "uXBysCAgwKrZ"
      }
    },
    {
      "cell_type": "code",
      "source": [
        "# Word Embedding\n",
        "\n",
        "df[\"token_title\"] = [nltk.word_tokenize(k) for k in df[\"r_title\"].to_list()]\n",
        "word2vec_tr = Word2Vec(df[\"token_title\"], min_count=1, window=3)\n",
        "print(word2vec_tr)"
      ],
      "metadata": {
        "id": "_EFM2R97wOpK",
        "colab": {
          "base_uri": "https://localhost:8080/"
        },
        "outputId": "219a97c2-f9b1-431c-d0e3-cdd068a54bd7"
      },
      "execution_count": null,
      "outputs": [
        {
          "output_type": "stream",
          "name": "stdout",
          "text": [
            "Word2Vec(vocab=2121, size=100, alpha=0.025)\n"
          ]
        }
      ]
    },
    {
      "cell_type": "code",
      "source": [
        "words = word2vec_tr.wv.vocab\n",
        "\n",
        "# fit a 2d PCA model to the vectors\n",
        "pca = PCA(n_components=2)\n",
        "result = pca.fit_transform(word2vec_tr[words])\n",
        "\n",
        "# create a scatter plot of the projection\n",
        "pyplot.figure(figsize=(20,20))\n",
        "pyplot.scatter(result[:, 0], result[:, 1])\n",
        "pyplot.xlabel(\"PC1\",size=10)\n",
        "pyplot.ylabel(\"PC2\",size=10)\n",
        "pyplot.show()"
      ],
      "metadata": {
        "id": "dmepdMprRZ07",
        "colab": {
          "base_uri": "https://localhost:8080/",
          "height": 1000
        },
        "outputId": "0ae687bc-0b17-4531-8dcd-f83d0b91b6f9"
      },
      "execution_count": null,
      "outputs": [
        {
          "output_type": "stream",
          "name": "stderr",
          "text": [
            "/usr/local/lib/python3.7/dist-packages/ipykernel_launcher.py:5: DeprecationWarning: Call to deprecated `__getitem__` (Method will be removed in 4.0.0, use self.wv.__getitem__() instead).\n",
            "  \"\"\"\n"
          ]
        },
        {
          "output_type": "display_data",
          "data": {
            "text/plain": [
              "<Figure size 1440x1440 with 1 Axes>"
            ],
            "image/png": "[encoded data removed]"
          },
          "metadata": {
            "needs_background": "light"
          }
        }
      ]
    },
    {
      "cell_type": "markdown",
      "source": [
        "Saving vectorizer as pickle dump"
      ],
      "metadata": {
        "id": "QJJ473MHykac"
      }
    },
    {
      "cell_type": "code",
      "source": [
        "pickle.dump(word2vec_tr, open(\"w2v_vectorizer.pkl\",'wb'))"
      ],
      "metadata": {
        "id": "BzfGcnyeykA0"
      },
      "execution_count": null,
      "outputs": []
    },
    {
      "cell_type": "markdown",
      "source": [
        "Vectorize the vocabulary of the w2v Model"
      ],
      "metadata": {
        "id": "wm0x5MDYxU7W"
      }
    },
    {
      "cell_type": "code",
      "source": [
        "def W2Vvectorize(tokenized_train, w2vmodel):\n",
        "    vector=[]\n",
        "    words = list(w2vmodel.wv.vocab.keys())\n",
        "    for sent in tokenized_train:\n",
        "        sent_vec=np.zeros(100)\n",
        "        count = 0\n",
        "        for word in sent:\n",
        "            if word in words:\n",
        "                vec = w2vmodel.wv[word]\n",
        "                sent_vec += vec \n",
        "                count += 1\n",
        "        if count != 0:\n",
        "            sent_vec /= count #normalizing\n",
        "        vector.append(sent_vec)\n",
        "    return vector"
      ],
      "metadata": {
        "id": "dcBHvWacxGuB"
      },
      "execution_count": null,
      "outputs": []
    },
    {
      "cell_type": "code",
      "source": [
        "# Train-Test Split\n",
        "\n",
        "X_train, X_test, Y_train, Y_test = train_test_split(df[\"token_title\"], df[\"Sentiment\"], test_size=0.2, stratify = df[\"Sentiment\"])\n",
        "print(\"Train: \", X_train.shape, Y_train.shape, \"Test: \", (X_test.shape, Y_test.shape))"
      ],
      "metadata": {
        "id": "Y6vw05W3xbGC",
        "colab": {
          "base_uri": "https://localhost:8080/"
        },
        "outputId": "866f5d66-5778-44df-90f4-f4b1125794ad"
      },
      "execution_count": null,
      "outputs": [
        {
          "output_type": "stream",
          "name": "stdout",
          "text": [
            "Train:  (615,) (615,) Test:  ((154,), (154,))\n"
          ]
        }
      ]
    },
    {
      "cell_type": "markdown",
      "source": [
        "Vectorize the training and test datasets"
      ],
      "metadata": {
        "id": "r8M2p7a8yGOM"
      }
    },
    {
      "cell_type": "code",
      "source": [
        "train_tf_w2v = W2Vvectorize(X_train, word2vec_tr)\n",
        "test_tf_w2v = W2Vvectorize(X_test, word2vec_tr)"
      ],
      "metadata": {
        "id": "-3t5GlBGyCfY"
      },
      "execution_count": null,
      "outputs": []
    },
    {
      "cell_type": "markdown",
      "source": [
        "Hyperparameter Tuning via GridSearch and K-fold Cross Validation"
      ],
      "metadata": {
        "id": "verHH95Jzdkx"
      }
    },
    {
      "cell_type": "code",
      "source": [
        "# SVM\n",
        "\n",
        "mdl = SVC()\n",
        "mdl.get_params().keys()"
      ],
      "metadata": {
        "id": "WMqF1xIHyYmB",
        "colab": {
          "base_uri": "https://localhost:8080/"
        },
        "outputId": "91e62aaa-f857-4aaa-c93d-78d76b42ae8b"
      },
      "execution_count": null,
      "outputs": [
        {
          "output_type": "execute_result",
          "data": {
            "text/plain": [
              "dict_keys(['C', 'break_ties', 'cache_size', 'class_weight', 'coef0', 'decision_function_shape', 'degree', 'gamma', 'kernel', 'max_iter', 'probability', 'random_state', 'shrinking', 'tol', 'verbose'])"
            ]
          },
          "metadata": {},
          "execution_count": 52
        }
      ]
    },
    {
      "cell_type": "code",
      "source": [
        "param_grid = {'C': [0.1, 1, 10, 100, 1000],\n",
        "              'degree' :[2, 3, 4, 5, 6],\n",
        "              'gamma': [1, 0.1, 0.01, 0.001, 0.0001],\n",
        "              'kernel': ['rbf']}"
      ],
      "metadata": {
        "id": "DiJpl5mNz8Tz"
      },
      "execution_count": null,
      "outputs": []
    },
    {
      "cell_type": "code",
      "source": [
        "# Define grid search\n",
        "\n",
        "cv = RepeatedStratifiedKFold(n_splits=10, n_repeats=3, random_state=1)\n",
        "grid = GridSearchCV(mdl, param_grid, n_jobs=-1, cv=cv, scoring='accuracy', refit=True, verbose=2, error_score=0)\n",
        "\n",
        "# fitting the model for grid search\n",
        "best_model_w = grid.fit(train_tf_w2v, Y_train)"
      ],
      "metadata": {
        "id": "FIKNrrr4zUb7",
        "colab": {
          "base_uri": "https://localhost:8080/"
        },
        "outputId": "60c25223-2364-444f-ab1d-75c02e57232f"
      },
      "execution_count": null,
      "outputs": [
        {
          "output_type": "stream",
          "name": "stdout",
          "text": [
            "Fitting 30 folds for each of 125 candidates, totalling 3750 fits\n"
          ]
        }
      ]
    },
    {
      "cell_type": "code",
      "source": [
        "print(best_model_w.best_score_, best_model_w.best_params_)"
      ],
      "metadata": {
        "id": "8tieqlBa1ek3",
        "colab": {
          "base_uri": "https://localhost:8080/"
        },
        "outputId": "e8da145c-16db-47fa-d20c-be25fbe007bc"
      },
      "execution_count": null,
      "outputs": [
        {
          "output_type": "stream",
          "name": "stdout",
          "text": [
            "0.7452670544685351 {'C': 1000, 'degree': 2, 'gamma': 1, 'kernel': 'rbf'}\n"
          ]
        }
      ]
    },
    {
      "cell_type": "code",
      "source": [
        "mdl = SVC(C=1000, degree=2, gamma=1, kernel='rbf')\n",
        "mdl.fit(train_tf_w2v, Y_train)\n",
        "\n",
        "y_test_pred_w = mdl.predict(test_tf_w2v)\n",
        "svm_acc_w = accuracy_score(Y_test, y_test_pred_w)\n",
        "print(\"SVM: \", svm_acc_w)"
      ],
      "metadata": {
        "id": "OwkLtc332CZP",
        "colab": {
          "base_uri": "https://localhost:8080/"
        },
        "outputId": "38dff9f6-7b4b-41b3-9bde-f15b4a6d3655"
      },
      "execution_count": null,
      "outputs": [
        {
          "output_type": "stream",
          "name": "stdout",
          "text": [
            "SVM:  0.7467532467532467\n"
          ]
        }
      ]
    },
    {
      "cell_type": "code",
      "source": [
        "grid_predictions = grid.predict(test_tf_w2v)\n",
        "plot_confusion_matrix(mdl, test_tf_w2v, Y_test)"
      ],
      "metadata": {
        "id": "_rewzPv02qID",
        "colab": {
          "base_uri": "https://localhost:8080/",
          "height": 351
        },
        "outputId": "54fd7c5c-e4ca-41ea-b717-c1ee759f8341"
      },
      "execution_count": null,
      "outputs": [
        {
          "output_type": "stream",
          "name": "stderr",
          "text": [
            "/usr/local/lib/python3.7/dist-packages/sklearn/utils/deprecation.py:87: FutureWarning: Function plot_confusion_matrix is deprecated; Function `plot_confusion_matrix` is deprecated in 1.0 and will be removed in 1.2. Use one of the class methods: ConfusionMatrixDisplay.from_predictions or ConfusionMatrixDisplay.from_estimator.\n",
            "  warnings.warn(msg, category=FutureWarning)\n"
          ]
        },
        {
          "output_type": "execute_result",
          "data": {
            "text/plain": [
              "<sklearn.metrics._plot.confusion_matrix.ConfusionMatrixDisplay at 0x7fc3b2383850>"
            ]
          },
          "metadata": {},
          "execution_count": 57
        },
        {
          "output_type": "display_data",
          "data": {
            "text/plain": [
              "<Figure size 432x288 with 2 Axes>"
            ],
            "image/png": "[encoded data removed]"
          },
          "metadata": {
            "needs_background": "light"
          }
        }
      ]
    },
    {
      "cell_type": "markdown",
      "source": [
        "Saving the model as pickle dump"
      ],
      "metadata": {
        "id": "vj_bsKtZ2yNb"
      }
    },
    {
      "cell_type": "code",
      "source": [
        "# save the model \n",
        "pickle.dump(mdl, open(\"sentiment-model_w2v.pkl\",'wb'))"
      ],
      "metadata": {
        "id": "BPCtIAy_12Mk"
      },
      "execution_count": null,
      "outputs": []
    },
    {
      "cell_type": "markdown",
      "source": [
        "# **Testing on Scrapped Dataset**"
      ],
      "metadata": {
        "id": "WRIaRqkd5VgZ"
      }
    },
    {
      "cell_type": "markdown",
      "source": [
        "Extracting Web-Scrapped Dataset"
      ],
      "metadata": {
        "id": "2hikCM2C6pm-"
      }
    },
    {
      "cell_type": "code",
      "source": [
        "#list of keywords\n",
        "keyword_list = [ 'HERO MOTOCORP LTD.', 'Srikalahasthi Pipes Limited', 'FORCE MOTORS LTD.', 'HINDUSTAN CONSTRUCTION CO.LTD.',\n",
        "                'ABB India Limited', 'KINETIC ENGINEERING LTD', 'USHA MARTIN LTD.', 'MAHINDRA & MAHINDRA LTD.',\n",
        "                'MAHARASHTRA SEAMLESS LTD.', 'BHARAT HEAVY ELECTRICALS LTD.', 'LML LTD.', 'ELECTROTHERM (INDIA) LTD.',\n",
        "                'MARUTI SUZUKI INDIA LTD.', 'NCC Limited', 'THERMAX LTD.', 'MAJESTIC AUTO LTD.', 'MSP STEEL & POWER LTD.',\n",
        "                'BEML LTD.', 'JINDAL SAW LTD.', 'ATLAS CYCLES (HARYANA) LTD.']"
      ],
      "metadata": {
        "id": "KEYJDsKx6lu8"
      },
      "execution_count": null,
      "outputs": []
    },
    {
      "cell_type": "code",
      "source": [
        "# function to scrape news and then clean it, returns a list\n",
        "\n",
        "def get_news(word):\n",
        "    gn = GoogleNews(country = 'IN')\n",
        "    ksearch = gn.search(word)\n",
        "    entry = ksearch['entries']\n",
        "    tlist = []\n",
        "    for i in entry:\n",
        "        tlist.append(i['title'])\n",
        "    \n",
        "    tfinal = []\n",
        "    for ele in tlist:\n",
        "        if '-' in ele:\n",
        "            temp_list = re.split(' - ', ele)\n",
        "        else:\n",
        "            temp_list = re.split(' [|] *', ele)\n",
        "        tfinal.append(temp_list[0])\n",
        "\n",
        "    return tfinal"
      ],
      "metadata": {
        "id": "zh7wFl9R6-cp"
      },
      "execution_count": null,
      "outputs": []
    },
    {
      "cell_type": "code",
      "source": [
        "# create a dataframe for each list and append it to a final dataframe\n",
        "\n",
        "def get_dataframe():\n",
        "    final_df = pd.DataFrame()\n",
        "    \n",
        "    for kw in keyword_list:\n",
        "        nlist = get_news(kw)\n",
        "        cname = [kw for i in range(len(nlist))]\n",
        "        df = pd.DataFrame(list(zip(cname, nlist[0:42])), columns=['company_name', 'news'])\n",
        "        final_df = final_df.append(df, ignore_index=True)\n",
        "        \n",
        "    #final_df.reset_index(drop=True)\n",
        "    return final_df"
      ],
      "metadata": {
        "id": "GU0MHFWb7Dot"
      },
      "execution_count": null,
      "outputs": []
    },
    {
      "cell_type": "code",
      "source": [
        "news_df = get_dataframe()\n",
        "news_df.sample(frac=0.1)"
      ],
      "metadata": {
        "id": "AXGRkr8U7Ibp",
        "colab": {
          "base_uri": "https://localhost:8080/",
          "height": 424
        },
        "outputId": "af24dd6a-ef73-4881-ef15-6b43c1527600"
      },
      "execution_count": null,
      "outputs": [
        {
          "output_type": "execute_result",
          "data": {
            "text/plain": [
              "                       company_name  \\\n",
              "312        MAHINDRA & MAHINDRA LTD.   \n",
              "550                     NCC Limited   \n",
              "359   BHARAT HEAVY ELECTRICALS LTD.   \n",
              "722                 JINDAL SAW LTD.   \n",
              "170               ABB India Limited   \n",
              "..                              ...   \n",
              "226         KINETIC ENGINEERING LTD   \n",
              "123  HINDUSTAN CONSTRUCTION CO.LTD.   \n",
              "93                FORCE MOTORS LTD.   \n",
              "533                     NCC Limited   \n",
              "745                 JINDAL SAW LTD.   \n",
              "\n",
              "                                                  news  \n",
              "312  Tillage Equipment Market Size, Scope and Forec...  \n",
              "550  We Think That There Are Issues Underlying NCC'...  \n",
              "359  BHEl, LIC played key role in country’s develop...  \n",
              "722  Seamless Pipes Market Business Growth Tactics,...  \n",
              "170  IoT at Workplace Market 2022 by Keyplayers and...  \n",
              "..                                                 ...  \n",
              "226  ICRA upgrades rating of H G Infra Engineering Ltd  \n",
              "123  Top 10 Best Indian Construction Companies In 2022  \n",
              "93   Medium & Low Voltage Motors Market Rising Dema...  \n",
              "533      Buy NCC, target price Rs 108: HDFC Securities  \n",
              "745  NGT takes Jindal Saw's Bhilwara unit to task f...  \n",
              "\n",
              "[77 rows x 2 columns]"
            ],
            "text/html": [
              "\n",
              "  <div id=\"df-eefd56c0-c0d0-42f0-823d-2435491ee82f\">\n",
              "    <div class=\"colab-df-container\">\n",
              "      <div>\n",
              "<style scoped>\n",
              "    .dataframe tbody tr th:only-of-type {\n",
              "        vertical-align: middle;\n",
              "    }\n",
              "\n",
              "    .dataframe tbody tr th {\n",
              "        vertical-align: top;\n",
              "    }\n",
              "\n",
              "    .dataframe thead th {\n",
              "        text-align: right;\n",
              "    }\n",
              "</style>\n",
              "<table border=\"1\" class=\"dataframe\">\n",
              "  <thead>\n",
              "    <tr style=\"text-align: right;\">\n",
              "      <th></th>\n",
              "      <th>company_name</th>\n",
              "      <th>news</th>\n",
              "    </tr>\n",
              "  </thead>\n",
              "  <tbody>\n",
              "    <tr>\n",
              "      <th>312</th>\n",
              "      <td>MAHINDRA &amp; MAHINDRA LTD.</td>\n",
              "      <td>Tillage Equipment Market Size, Scope and Forec...</td>\n",
              "    </tr>\n",
              "    <tr>\n",
              "      <th>550</th>\n",
              "      <td>NCC Limited</td>\n",
              "      <td>We Think That There Are Issues Underlying NCC'...</td>\n",
              "    </tr>\n",
              "    <tr>\n",
              "      <th>359</th>\n",
              "      <td>BHARAT HEAVY ELECTRICALS LTD.</td>\n",
              "      <td>BHEl, LIC played key role in country’s develop...</td>\n",
              "    </tr>\n",
              "    <tr>\n",
              "      <th>722</th>\n",
              "      <td>JINDAL SAW LTD.</td>\n",
              "      <td>Seamless Pipes Market Business Growth Tactics,...</td>\n",
              "    </tr>\n",
              "    <tr>\n",
              "      <th>170</th>\n",
              "      <td>ABB India Limited</td>\n",
              "      <td>IoT at Workplace Market 2022 by Keyplayers and...</td>\n",
              "    </tr>\n",
              "    <tr>\n",
              "      <th>...</th>\n",
              "      <td>...</td>\n",
              "      <td>...</td>\n",
              "    </tr>\n",
              "    <tr>\n",
              "      <th>226</th>\n",
              "      <td>KINETIC ENGINEERING LTD</td>\n",
              "      <td>ICRA upgrades rating of H G Infra Engineering Ltd</td>\n",
              "    </tr>\n",
              "    <tr>\n",
              "      <th>123</th>\n",
              "      <td>HINDUSTAN CONSTRUCTION CO.LTD.</td>\n",
              "      <td>Top 10 Best Indian Construction Companies In 2022</td>\n",
              "    </tr>\n",
              "    <tr>\n",
              "      <th>93</th>\n",
              "      <td>FORCE MOTORS LTD.</td>\n",
              "      <td>Medium &amp; Low Voltage Motors Market Rising Dema...</td>\n",
              "    </tr>\n",
              "    <tr>\n",
              "      <th>533</th>\n",
              "      <td>NCC Limited</td>\n",
              "      <td>Buy NCC, target price Rs 108: HDFC Securities</td>\n",
              "    </tr>\n",
              "    <tr>\n",
              "      <th>745</th>\n",
              "      <td>JINDAL SAW LTD.</td>\n",
              "      <td>NGT takes Jindal Saw's Bhilwara unit to task f...</td>\n",
              "    </tr>\n",
              "  </tbody>\n",
              "</table>\n",
              "<p>77 rows × 2 columns</p>\n",
              "</div>\n",
              "      <button class=\"colab-df-convert\" onclick=\"convertToInteractive('df-eefd56c0-c0d0-42f0-823d-2435491ee82f')\"\n",
              "              title=\"Convert this dataframe to an interactive table.\"\n",
              "              style=\"display:none;\">\n",
              "        \n",
              "  <svg xmlns=\"http://www.w3.org/2000/svg\" height=\"24px\"viewBox=\"0 0 24 24\"\n",
              "       width=\"24px\">\n",
              "    <path d=\"M0 0h24v24H0V0z\" fill=\"none\"/>\n",
              "    <path d=\"M18.56 5.44l.94 2.06.94-2.06 2.06-.94-2.06-.94-.94-2.06-.94 2.06-2.06.94zm-11 1L8.5 8.5l.94-2.06 2.06-.94-2.06-.94L8.5 2.5l-.94 2.06-2.06.94zm10 10l.94 2.06.94-2.06 2.06-.94-2.06-.94-.94-2.06-.94 2.06-2.06.94z\"/><path d=\"M17.41 7.96l-1.37-1.37c-.4-.4-.92-.59-1.43-.59-.52 0-1.04.2-1.43.59L10.3 9.45l-7.72 7.72c-.78.78-.78 2.05 0 2.83L4 21.41c.39.39.9.59 1.41.59.51 0 1.02-.2 1.41-.59l7.78-7.78 2.81-2.81c.8-.78.8-2.07 0-2.86zM5.41 20L4 18.59l7.72-7.72 1.47 1.35L5.41 20z\"/>\n",
              "  </svg>\n",
              "      </button>\n",
              "      \n",
              "  <style>\n",
              "    .colab-df-container {\n",
              "      display:flex;\n",
              "      flex-wrap:wrap;\n",
              "      gap: 12px;\n",
              "    }\n",
              "\n",
              "    .colab-df-convert {\n",
              "      background-color: #E8F0FE;\n",
              "      border: none;\n",
              "      border-radius: 50%;\n",
              "      cursor: pointer;\n",
              "      display: none;\n",
              "      fill: #1967D2;\n",
              "      height: 32px;\n",
              "      padding: 0 0 0 0;\n",
              "      width: 32px;\n",
              "    }\n",
              "\n",
              "    .colab-df-convert:hover {\n",
              "      background-color: #E2EBFA;\n",
              "      box-shadow: 0px 1px 2px rgba(60, 64, 67, 0.3), 0px 1px 3px 1px rgba(60, 64, 67, 0.15);\n",
              "      fill: #174EA6;\n",
              "    }\n",
              "\n",
              "    [theme=dark] .colab-df-convert {\n",
              "      background-color: #3B4455;\n",
              "      fill: #D2E3FC;\n",
              "    }\n",
              "\n",
              "    [theme=dark] .colab-df-convert:hover {\n",
              "      background-color: #434B5C;\n",
              "      box-shadow: 0px 1px 3px 1px rgba(0, 0, 0, 0.15);\n",
              "      filter: drop-shadow(0px 1px 2px rgba(0, 0, 0, 0.3));\n",
              "      fill: #FFFFFF;\n",
              "    }\n",
              "  </style>\n",
              "\n",
              "      <script>\n",
              "        const buttonEl =\n",
              "          document.querySelector('#df-eefd56c0-c0d0-42f0-823d-2435491ee82f button.colab-df-convert');\n",
              "        buttonEl.style.display =\n",
              "          google.colab.kernel.accessAllowed ? 'block' : 'none';\n",
              "\n",
              "        async function convertToInteractive(key) {\n",
              "          const element = document.querySelector('#df-eefd56c0-c0d0-42f0-823d-2435491ee82f');\n",
              "          const dataTable =\n",
              "            await google.colab.kernel.invokeFunction('convertToInteractive',\n",
              "                                                     [key], {});\n",
              "          if (!dataTable) return;\n",
              "\n",
              "          const docLinkHtml = 'Like what you see? Visit the ' +\n",
              "            '<a target=\"_blank\" href=https://colab.research.google.com/notebooks/data_table.ipynb>data table notebook</a>'\n",
              "            + ' to learn more about interactive tables.';\n",
              "          element.innerHTML = '';\n",
              "          dataTable['output_type'] = 'display_data';\n",
              "          await google.colab.output.renderOutput(dataTable, element);\n",
              "          const docLink = document.createElement('div');\n",
              "          docLink.innerHTML = docLinkHtml;\n",
              "          element.appendChild(docLink);\n",
              "        }\n",
              "      </script>\n",
              "    </div>\n",
              "  </div>\n",
              "  "
            ]
          },
          "metadata": {},
          "execution_count": 63
        }
      ]
    },
    {
      "cell_type": "markdown",
      "source": [
        "Preprocessing and clean-up of the scrapped Dataset"
      ],
      "metadata": {
        "id": "tHMh73hL7rrV"
      }
    },
    {
      "cell_type": "code",
      "source": [
        "news_df[\"r_title\"] = cleanup(news_df[\"news\"])\n",
        "news_df"
      ],
      "metadata": {
        "id": "MGX_-kus74i4",
        "colab": {
          "base_uri": "https://localhost:8080/",
          "height": 424
        },
        "outputId": "1f01693a-b514-4d43-dea7-f3ed3981d731"
      },
      "execution_count": null,
      "outputs": [
        {
          "output_type": "execute_result",
          "data": {
            "text/plain": [
              "                    company_name  \\\n",
              "0             HERO MOTOCORP LTD.   \n",
              "1             HERO MOTOCORP LTD.   \n",
              "2             HERO MOTOCORP LTD.   \n",
              "3             HERO MOTOCORP LTD.   \n",
              "4             HERO MOTOCORP LTD.   \n",
              "..                           ...   \n",
              "758  ATLAS CYCLES (HARYANA) LTD.   \n",
              "759  ATLAS CYCLES (HARYANA) LTD.   \n",
              "760  ATLAS CYCLES (HARYANA) LTD.   \n",
              "761  ATLAS CYCLES (HARYANA) LTD.   \n",
              "762  ATLAS CYCLES (HARYANA) LTD.   \n",
              "\n",
              "                                                  news  \\\n",
              "0    Buy Hero MotoCorp, target price Rs 2825: HDFC ...   \n",
              "1    Buy Hero MotoCorp, target price Rs 3069: HDFC ...   \n",
              "2                   Hero Moto Corp postpones EV launch   \n",
              "3    Hero MotoCorp strengthens partnership with Utt...   \n",
              "4    Hero MotoCorp expects two-wheeler industry to ...   \n",
              "..                                                 ...   \n",
              "758  Blog: On World Bicycle Day, Atlas Cycles rides...   \n",
              "759  Atlas Products restrained from using 'Atlas' a...   \n",
              "760  Former Atlas Cycles president held in cheating...   \n",
              "761  Delhi: Wife of top cycle firm executive hangs ...   \n",
              "762  Global Bicycles Market to Reach $78 Billion by...   \n",
              "\n",
              "                                               r_title  \n",
              "0       buy hero motocorp target price r hdfc security  \n",
              "1       buy hero motocorp target price r hdfc security  \n",
              "2                   hero moto corp postpones ev launch  \n",
              "3    hero motocorp strengthens partnership uttarakh...  \n",
              "4    hero motocorp expects twowheeler industry see ...  \n",
              "..                                                 ...  \n",
              "758  blog world bicycle day atlas cycle ride sunset...  \n",
              "759    atlas product restrained using atlas trade name  \n",
              "760    former atlas cycle president held cheating case  \n",
              "761           delhi wife top cycle firm executive hang  \n",
              "762                global bicycle market reach billion  \n",
              "\n",
              "[763 rows x 3 columns]"
            ],
            "text/html": [
              "\n",
              "  <div id=\"df-b89763f5-c59e-47da-a407-125da0e990a2\">\n",
              "    <div class=\"colab-df-container\">\n",
              "      <div>\n",
              "<style scoped>\n",
              "    .dataframe tbody tr th:only-of-type {\n",
              "        vertical-align: middle;\n",
              "    }\n",
              "\n",
              "    .dataframe tbody tr th {\n",
              "        vertical-align: top;\n",
              "    }\n",
              "\n",
              "    .dataframe thead th {\n",
              "        text-align: right;\n",
              "    }\n",
              "</style>\n",
              "<table border=\"1\" class=\"dataframe\">\n",
              "  <thead>\n",
              "    <tr style=\"text-align: right;\">\n",
              "      <th></th>\n",
              "      <th>company_name</th>\n",
              "      <th>news</th>\n",
              "      <th>r_title</th>\n",
              "    </tr>\n",
              "  </thead>\n",
              "  <tbody>\n",
              "    <tr>\n",
              "      <th>0</th>\n",
              "      <td>HERO MOTOCORP LTD.</td>\n",
              "      <td>Buy Hero MotoCorp, target price Rs 2825: HDFC ...</td>\n",
              "      <td>buy hero motocorp target price r hdfc security</td>\n",
              "    </tr>\n",
              "    <tr>\n",
              "      <th>1</th>\n",
              "      <td>HERO MOTOCORP LTD.</td>\n",
              "      <td>Buy Hero MotoCorp, target price Rs 3069: HDFC ...</td>\n",
              "      <td>buy hero motocorp target price r hdfc security</td>\n",
              "    </tr>\n",
              "    <tr>\n",
              "      <th>2</th>\n",
              "      <td>HERO MOTOCORP LTD.</td>\n",
              "      <td>Hero Moto Corp postpones EV launch</td>\n",
              "      <td>hero moto corp postpones ev launch</td>\n",
              "    </tr>\n",
              "    <tr>\n",
              "      <th>3</th>\n",
              "      <td>HERO MOTOCORP LTD.</td>\n",
              "      <td>Hero MotoCorp strengthens partnership with Utt...</td>\n",
              "      <td>hero motocorp strengthens partnership uttarakh...</td>\n",
              "    </tr>\n",
              "    <tr>\n",
              "      <th>4</th>\n",
              "      <td>HERO MOTOCORP LTD.</td>\n",
              "      <td>Hero MotoCorp expects two-wheeler industry to ...</td>\n",
              "      <td>hero motocorp expects twowheeler industry see ...</td>\n",
              "    </tr>\n",
              "    <tr>\n",
              "      <th>...</th>\n",
              "      <td>...</td>\n",
              "      <td>...</td>\n",
              "      <td>...</td>\n",
              "    </tr>\n",
              "    <tr>\n",
              "      <th>758</th>\n",
              "      <td>ATLAS CYCLES (HARYANA) LTD.</td>\n",
              "      <td>Blog: On World Bicycle Day, Atlas Cycles rides...</td>\n",
              "      <td>blog world bicycle day atlas cycle ride sunset...</td>\n",
              "    </tr>\n",
              "    <tr>\n",
              "      <th>759</th>\n",
              "      <td>ATLAS CYCLES (HARYANA) LTD.</td>\n",
              "      <td>Atlas Products restrained from using 'Atlas' a...</td>\n",
              "      <td>atlas product restrained using atlas trade name</td>\n",
              "    </tr>\n",
              "    <tr>\n",
              "      <th>760</th>\n",
              "      <td>ATLAS CYCLES (HARYANA) LTD.</td>\n",
              "      <td>Former Atlas Cycles president held in cheating...</td>\n",
              "      <td>former atlas cycle president held cheating case</td>\n",
              "    </tr>\n",
              "    <tr>\n",
              "      <th>761</th>\n",
              "      <td>ATLAS CYCLES (HARYANA) LTD.</td>\n",
              "      <td>Delhi: Wife of top cycle firm executive hangs ...</td>\n",
              "      <td>delhi wife top cycle firm executive hang</td>\n",
              "    </tr>\n",
              "    <tr>\n",
              "      <th>762</th>\n",
              "      <td>ATLAS CYCLES (HARYANA) LTD.</td>\n",
              "      <td>Global Bicycles Market to Reach $78 Billion by...</td>\n",
              "      <td>global bicycle market reach billion</td>\n",
              "    </tr>\n",
              "  </tbody>\n",
              "</table>\n",
              "<p>763 rows × 3 columns</p>\n",
              "</div>\n",
              "      <button class=\"colab-df-convert\" onclick=\"convertToInteractive('df-b89763f5-c59e-47da-a407-125da0e990a2')\"\n",
              "              title=\"Convert this dataframe to an interactive table.\"\n",
              "              style=\"display:none;\">\n",
              "        \n",
              "  <svg xmlns=\"http://www.w3.org/2000/svg\" height=\"24px\"viewBox=\"0 0 24 24\"\n",
              "       width=\"24px\">\n",
              "    <path d=\"M0 0h24v24H0V0z\" fill=\"none\"/>\n",
              "    <path d=\"M18.56 5.44l.94 2.06.94-2.06 2.06-.94-2.06-.94-.94-2.06-.94 2.06-2.06.94zm-11 1L8.5 8.5l.94-2.06 2.06-.94-2.06-.94L8.5 2.5l-.94 2.06-2.06.94zm10 10l.94 2.06.94-2.06 2.06-.94-2.06-.94-.94-2.06-.94 2.06-2.06.94z\"/><path d=\"M17.41 7.96l-1.37-1.37c-.4-.4-.92-.59-1.43-.59-.52 0-1.04.2-1.43.59L10.3 9.45l-7.72 7.72c-.78.78-.78 2.05 0 2.83L4 21.41c.39.39.9.59 1.41.59.51 0 1.02-.2 1.41-.59l7.78-7.78 2.81-2.81c.8-.78.8-2.07 0-2.86zM5.41 20L4 18.59l7.72-7.72 1.47 1.35L5.41 20z\"/>\n",
              "  </svg>\n",
              "      </button>\n",
              "      \n",
              "  <style>\n",
              "    .colab-df-container {\n",
              "      display:flex;\n",
              "      flex-wrap:wrap;\n",
              "      gap: 12px;\n",
              "    }\n",
              "\n",
              "    .colab-df-convert {\n",
              "      background-color: #E8F0FE;\n",
              "      border: none;\n",
              "      border-radius: 50%;\n",
              "      cursor: pointer;\n",
              "      display: none;\n",
              "      fill: #1967D2;\n",
              "      height: 32px;\n",
              "      padding: 0 0 0 0;\n",
              "      width: 32px;\n",
              "    }\n",
              "\n",
              "    .colab-df-convert:hover {\n",
              "      background-color: #E2EBFA;\n",
              "      box-shadow: 0px 1px 2px rgba(60, 64, 67, 0.3), 0px 1px 3px 1px rgba(60, 64, 67, 0.15);\n",
              "      fill: #174EA6;\n",
              "    }\n",
              "\n",
              "    [theme=dark] .colab-df-convert {\n",
              "      background-color: #3B4455;\n",
              "      fill: #D2E3FC;\n",
              "    }\n",
              "\n",
              "    [theme=dark] .colab-df-convert:hover {\n",
              "      background-color: #434B5C;\n",
              "      box-shadow: 0px 1px 3px 1px rgba(0, 0, 0, 0.15);\n",
              "      filter: drop-shadow(0px 1px 2px rgba(0, 0, 0, 0.3));\n",
              "      fill: #FFFFFF;\n",
              "    }\n",
              "  </style>\n",
              "\n",
              "      <script>\n",
              "        const buttonEl =\n",
              "          document.querySelector('#df-b89763f5-c59e-47da-a407-125da0e990a2 button.colab-df-convert');\n",
              "        buttonEl.style.display =\n",
              "          google.colab.kernel.accessAllowed ? 'block' : 'none';\n",
              "\n",
              "        async function convertToInteractive(key) {\n",
              "          const element = document.querySelector('#df-b89763f5-c59e-47da-a407-125da0e990a2');\n",
              "          const dataTable =\n",
              "            await google.colab.kernel.invokeFunction('convertToInteractive',\n",
              "                                                     [key], {});\n",
              "          if (!dataTable) return;\n",
              "\n",
              "          const docLinkHtml = 'Like what you see? Visit the ' +\n",
              "            '<a target=\"_blank\" href=https://colab.research.google.com/notebooks/data_table.ipynb>data table notebook</a>'\n",
              "            + ' to learn more about interactive tables.';\n",
              "          element.innerHTML = '';\n",
              "          dataTable['output_type'] = 'display_data';\n",
              "          await google.colab.output.renderOutput(dataTable, element);\n",
              "          const docLink = document.createElement('div');\n",
              "          docLink.innerHTML = docLinkHtml;\n",
              "          element.appendChild(docLink);\n",
              "        }\n",
              "      </script>\n",
              "    </div>\n",
              "  </div>\n",
              "  "
            ]
          },
          "metadata": {},
          "execution_count": 88
        }
      ]
    },
    {
      "cell_type": "markdown",
      "source": [
        "Load the Vectorizers and the Models"
      ],
      "metadata": {
        "id": "_0gzr-y78RZk"
      }
    },
    {
      "cell_type": "markdown",
      "source": [
        "Count Vectorizer"
      ],
      "metadata": {
        "id": "P-n1ynQ99JxF"
      }
    },
    {
      "cell_type": "code",
      "source": [
        "# load the count sentiment vectorizer from the file\n",
        "c_vectorizer = pickle.load(open(\"c_vectorizer.pkl\", 'rb'))\n",
        "c_x_test = c_vectorizer.transform(news_df['r_title']).toarray()\n",
        "\n",
        "# loading saved sentimental model to test on extracted data\n",
        "filename = 'sentiment-model_count.pkl'\n",
        "c_sentiment_model = pickle.load(open(filename, 'rb'))\n",
        "\n",
        "# prediction on the scrapped dataset\n",
        "result_sentiment_c = c_sentiment_model.predict(c_x_test)\n",
        "news_df[\"Sentiment_Count\"] = result_sentiment_c"
      ],
      "metadata": {
        "id": "D_CISM9e8Mrf"
      },
      "execution_count": null,
      "outputs": []
    },
    {
      "cell_type": "code",
      "source": [
        "news_df"
      ],
      "metadata": {
        "id": "2SDryVMaBmbf",
        "colab": {
          "base_uri": "https://localhost:8080/",
          "height": 606
        },
        "outputId": "712d5aec-203a-4fed-b358-b688f90ff2d7"
      },
      "execution_count": null,
      "outputs": [
        {
          "output_type": "execute_result",
          "data": {
            "text/plain": [
              "                    company_name  \\\n",
              "0             HERO MOTOCORP LTD.   \n",
              "1             HERO MOTOCORP LTD.   \n",
              "2             HERO MOTOCORP LTD.   \n",
              "3             HERO MOTOCORP LTD.   \n",
              "4             HERO MOTOCORP LTD.   \n",
              "..                           ...   \n",
              "758  ATLAS CYCLES (HARYANA) LTD.   \n",
              "759  ATLAS CYCLES (HARYANA) LTD.   \n",
              "760  ATLAS CYCLES (HARYANA) LTD.   \n",
              "761  ATLAS CYCLES (HARYANA) LTD.   \n",
              "762  ATLAS CYCLES (HARYANA) LTD.   \n",
              "\n",
              "                                                  news  \\\n",
              "0    Buy Hero MotoCorp, target price Rs 2825: HDFC ...   \n",
              "1    Buy Hero MotoCorp, target price Rs 3069: HDFC ...   \n",
              "2                   Hero Moto Corp postpones EV launch   \n",
              "3    Hero MotoCorp strengthens partnership with Utt...   \n",
              "4    Hero MotoCorp expects two-wheeler industry to ...   \n",
              "..                                                 ...   \n",
              "758  Blog: On World Bicycle Day, Atlas Cycles rides...   \n",
              "759  Atlas Products restrained from using 'Atlas' a...   \n",
              "760  Former Atlas Cycles president held in cheating...   \n",
              "761  Delhi: Wife of top cycle firm executive hangs ...   \n",
              "762  Global Bicycles Market to Reach $78 Billion by...   \n",
              "\n",
              "                                               r_title Sentiment_Count  \n",
              "0       buy hero motocorp target price r hdfc security               z  \n",
              "1       buy hero motocorp target price r hdfc security               z  \n",
              "2                   hero moto corp postpones ev launch               z  \n",
              "3    hero motocorp strengthens partnership uttarakh...               z  \n",
              "4    hero motocorp expects twowheeler industry see ...               z  \n",
              "..                                                 ...             ...  \n",
              "758  blog world bicycle day atlas cycle ride sunset...               z  \n",
              "759    atlas product restrained using atlas trade name               z  \n",
              "760    former atlas cycle president held cheating case               z  \n",
              "761           delhi wife top cycle firm executive hang               z  \n",
              "762                global bicycle market reach billion               z  \n",
              "\n",
              "[763 rows x 4 columns]"
            ],
            "text/html": [
              "\n",
              "  <div id=\"df-e469c606-19db-462c-8c23-c6a11651769e\">\n",
              "    <div class=\"colab-df-container\">\n",
              "      <div>\n",
              "<style scoped>\n",
              "    .dataframe tbody tr th:only-of-type {\n",
              "        vertical-align: middle;\n",
              "    }\n",
              "\n",
              "    .dataframe tbody tr th {\n",
              "        vertical-align: top;\n",
              "    }\n",
              "\n",
              "    .dataframe thead th {\n",
              "        text-align: right;\n",
              "    }\n",
              "</style>\n",
              "<table border=\"1\" class=\"dataframe\">\n",
              "  <thead>\n",
              "    <tr style=\"text-align: right;\">\n",
              "      <th></th>\n",
              "      <th>company_name</th>\n",
              "      <th>news</th>\n",
              "      <th>r_title</th>\n",
              "      <th>Sentiment_Count</th>\n",
              "    </tr>\n",
              "  </thead>\n",
              "  <tbody>\n",
              "    <tr>\n",
              "      <th>0</th>\n",
              "      <td>HERO MOTOCORP LTD.</td>\n",
              "      <td>Buy Hero MotoCorp, target price Rs 2825: HDFC ...</td>\n",
              "      <td>buy hero motocorp target price r hdfc security</td>\n",
              "      <td>z</td>\n",
              "    </tr>\n",
              "    <tr>\n",
              "      <th>1</th>\n",
              "      <td>HERO MOTOCORP LTD.</td>\n",
              "      <td>Buy Hero MotoCorp, target price Rs 3069: HDFC ...</td>\n",
              "      <td>buy hero motocorp target price r hdfc security</td>\n",
              "      <td>z</td>\n",
              "    </tr>\n",
              "    <tr>\n",
              "      <th>2</th>\n",
              "      <td>HERO MOTOCORP LTD.</td>\n",
              "      <td>Hero Moto Corp postpones EV launch</td>\n",
              "      <td>hero moto corp postpones ev launch</td>\n",
              "      <td>z</td>\n",
              "    </tr>\n",
              "    <tr>\n",
              "      <th>3</th>\n",
              "      <td>HERO MOTOCORP LTD.</td>\n",
              "      <td>Hero MotoCorp strengthens partnership with Utt...</td>\n",
              "      <td>hero motocorp strengthens partnership uttarakh...</td>\n",
              "      <td>z</td>\n",
              "    </tr>\n",
              "    <tr>\n",
              "      <th>4</th>\n",
              "      <td>HERO MOTOCORP LTD.</td>\n",
              "      <td>Hero MotoCorp expects two-wheeler industry to ...</td>\n",
              "      <td>hero motocorp expects twowheeler industry see ...</td>\n",
              "      <td>z</td>\n",
              "    </tr>\n",
              "    <tr>\n",
              "      <th>...</th>\n",
              "      <td>...</td>\n",
              "      <td>...</td>\n",
              "      <td>...</td>\n",
              "      <td>...</td>\n",
              "    </tr>\n",
              "    <tr>\n",
              "      <th>758</th>\n",
              "      <td>ATLAS CYCLES (HARYANA) LTD.</td>\n",
              "      <td>Blog: On World Bicycle Day, Atlas Cycles rides...</td>\n",
              "      <td>blog world bicycle day atlas cycle ride sunset...</td>\n",
              "      <td>z</td>\n",
              "    </tr>\n",
              "    <tr>\n",
              "      <th>759</th>\n",
              "      <td>ATLAS CYCLES (HARYANA) LTD.</td>\n",
              "      <td>Atlas Products restrained from using 'Atlas' a...</td>\n",
              "      <td>atlas product restrained using atlas trade name</td>\n",
              "      <td>z</td>\n",
              "    </tr>\n",
              "    <tr>\n",
              "      <th>760</th>\n",
              "      <td>ATLAS CYCLES (HARYANA) LTD.</td>\n",
              "      <td>Former Atlas Cycles president held in cheating...</td>\n",
              "      <td>former atlas cycle president held cheating case</td>\n",
              "      <td>z</td>\n",
              "    </tr>\n",
              "    <tr>\n",
              "      <th>761</th>\n",
              "      <td>ATLAS CYCLES (HARYANA) LTD.</td>\n",
              "      <td>Delhi: Wife of top cycle firm executive hangs ...</td>\n",
              "      <td>delhi wife top cycle firm executive hang</td>\n",
              "      <td>z</td>\n",
              "    </tr>\n",
              "    <tr>\n",
              "      <th>762</th>\n",
              "      <td>ATLAS CYCLES (HARYANA) LTD.</td>\n",
              "      <td>Global Bicycles Market to Reach $78 Billion by...</td>\n",
              "      <td>global bicycle market reach billion</td>\n",
              "      <td>z</td>\n",
              "    </tr>\n",
              "  </tbody>\n",
              "</table>\n",
              "<p>763 rows × 4 columns</p>\n",
              "</div>\n",
              "      <button class=\"colab-df-convert\" onclick=\"convertToInteractive('df-e469c606-19db-462c-8c23-c6a11651769e')\"\n",
              "              title=\"Convert this dataframe to an interactive table.\"\n",
              "              style=\"display:none;\">\n",
              "        \n",
              "  <svg xmlns=\"http://www.w3.org/2000/svg\" height=\"24px\"viewBox=\"0 0 24 24\"\n",
              "       width=\"24px\">\n",
              "    <path d=\"M0 0h24v24H0V0z\" fill=\"none\"/>\n",
              "    <path d=\"M18.56 5.44l.94 2.06.94-2.06 2.06-.94-2.06-.94-.94-2.06-.94 2.06-2.06.94zm-11 1L8.5 8.5l.94-2.06 2.06-.94-2.06-.94L8.5 2.5l-.94 2.06-2.06.94zm10 10l.94 2.06.94-2.06 2.06-.94-2.06-.94-.94-2.06-.94 2.06-2.06.94z\"/><path d=\"M17.41 7.96l-1.37-1.37c-.4-.4-.92-.59-1.43-.59-.52 0-1.04.2-1.43.59L10.3 9.45l-7.72 7.72c-.78.78-.78 2.05 0 2.83L4 21.41c.39.39.9.59 1.41.59.51 0 1.02-.2 1.41-.59l7.78-7.78 2.81-2.81c.8-.78.8-2.07 0-2.86zM5.41 20L4 18.59l7.72-7.72 1.47 1.35L5.41 20z\"/>\n",
              "  </svg>\n",
              "      </button>\n",
              "      \n",
              "  <style>\n",
              "    .colab-df-container {\n",
              "      display:flex;\n",
              "      flex-wrap:wrap;\n",
              "      gap: 12px;\n",
              "    }\n",
              "\n",
              "    .colab-df-convert {\n",
              "      background-color: #E8F0FE;\n",
              "      border: none;\n",
              "      border-radius: 50%;\n",
              "      cursor: pointer;\n",
              "      display: none;\n",
              "      fill: #1967D2;\n",
              "      height: 32px;\n",
              "      padding: 0 0 0 0;\n",
              "      width: 32px;\n",
              "    }\n",
              "\n",
              "    .colab-df-convert:hover {\n",
              "      background-color: #E2EBFA;\n",
              "      box-shadow: 0px 1px 2px rgba(60, 64, 67, 0.3), 0px 1px 3px 1px rgba(60, 64, 67, 0.15);\n",
              "      fill: #174EA6;\n",
              "    }\n",
              "\n",
              "    [theme=dark] .colab-df-convert {\n",
              "      background-color: #3B4455;\n",
              "      fill: #D2E3FC;\n",
              "    }\n",
              "\n",
              "    [theme=dark] .colab-df-convert:hover {\n",
              "      background-color: #434B5C;\n",
              "      box-shadow: 0px 1px 3px 1px rgba(0, 0, 0, 0.15);\n",
              "      filter: drop-shadow(0px 1px 2px rgba(0, 0, 0, 0.3));\n",
              "      fill: #FFFFFF;\n",
              "    }\n",
              "  </style>\n",
              "\n",
              "      <script>\n",
              "        const buttonEl =\n",
              "          document.querySelector('#df-e469c606-19db-462c-8c23-c6a11651769e button.colab-df-convert');\n",
              "        buttonEl.style.display =\n",
              "          google.colab.kernel.accessAllowed ? 'block' : 'none';\n",
              "\n",
              "        async function convertToInteractive(key) {\n",
              "          const element = document.querySelector('#df-e469c606-19db-462c-8c23-c6a11651769e');\n",
              "          const dataTable =\n",
              "            await google.colab.kernel.invokeFunction('convertToInteractive',\n",
              "                                                     [key], {});\n",
              "          if (!dataTable) return;\n",
              "\n",
              "          const docLinkHtml = 'Like what you see? Visit the ' +\n",
              "            '<a target=\"_blank\" href=https://colab.research.google.com/notebooks/data_table.ipynb>data table notebook</a>'\n",
              "            + ' to learn more about interactive tables.';\n",
              "          element.innerHTML = '';\n",
              "          dataTable['output_type'] = 'display_data';\n",
              "          await google.colab.output.renderOutput(dataTable, element);\n",
              "          const docLink = document.createElement('div');\n",
              "          docLink.innerHTML = docLinkHtml;\n",
              "          element.appendChild(docLink);\n",
              "        }\n",
              "      </script>\n",
              "    </div>\n",
              "  </div>\n",
              "  "
            ]
          },
          "metadata": {},
          "execution_count": 90
        }
      ]
    },
    {
      "cell_type": "markdown",
      "source": [
        "Tf-Idf Vectorizer"
      ],
      "metadata": {
        "id": "m5LiSlLt9OdY"
      }
    },
    {
      "cell_type": "code",
      "source": [
        "# load the tf-idf sentiment vectorizer from the file\n",
        "tfidf_vectorizer = pickle.load(open(\"tfidf_vectorizer.pkl\", 'rb'))\n",
        "tf_x_test = tfidf_vectorizer.transform(news_df['r_title']).toarray()\n",
        "\n",
        "# loading saved sentimental model to test on extracted data\n",
        "filename = 'sentiment-model_tfidf.pkl'\n",
        "tfidf_sentiment_model = pickle.load(open(filename, 'rb'))\n",
        "\n",
        "# prediction on the scrapped dataset\n",
        "result_sentiment_tfidf = tfidf_sentiment_model.predict(tf_x_test)\n",
        "news_df[\"Sentiment_TfIdf\"] = result_sentiment_tfidf"
      ],
      "metadata": {
        "id": "0AOuWjkb9RYw"
      },
      "execution_count": null,
      "outputs": []
    },
    {
      "cell_type": "code",
      "source": [
        "news_df"
      ],
      "metadata": {
        "id": "ji_Ol0VMBoZY",
        "colab": {
          "base_uri": "https://localhost:8080/",
          "height": 624
        },
        "outputId": "e3296b06-8caf-4e0d-81e9-da40e0a77572"
      },
      "execution_count": null,
      "outputs": [
        {
          "output_type": "execute_result",
          "data": {
            "text/plain": [
              "                    company_name  \\\n",
              "0             HERO MOTOCORP LTD.   \n",
              "1             HERO MOTOCORP LTD.   \n",
              "2             HERO MOTOCORP LTD.   \n",
              "3             HERO MOTOCORP LTD.   \n",
              "4             HERO MOTOCORP LTD.   \n",
              "..                           ...   \n",
              "758  ATLAS CYCLES (HARYANA) LTD.   \n",
              "759  ATLAS CYCLES (HARYANA) LTD.   \n",
              "760  ATLAS CYCLES (HARYANA) LTD.   \n",
              "761  ATLAS CYCLES (HARYANA) LTD.   \n",
              "762  ATLAS CYCLES (HARYANA) LTD.   \n",
              "\n",
              "                                                  news  \\\n",
              "0    Buy Hero MotoCorp, target price Rs 2825: HDFC ...   \n",
              "1    Buy Hero MotoCorp, target price Rs 3069: HDFC ...   \n",
              "2                   Hero Moto Corp postpones EV launch   \n",
              "3    Hero MotoCorp strengthens partnership with Utt...   \n",
              "4    Hero MotoCorp expects two-wheeler industry to ...   \n",
              "..                                                 ...   \n",
              "758  Blog: On World Bicycle Day, Atlas Cycles rides...   \n",
              "759  Atlas Products restrained from using 'Atlas' a...   \n",
              "760  Former Atlas Cycles president held in cheating...   \n",
              "761  Delhi: Wife of top cycle firm executive hangs ...   \n",
              "762  Global Bicycles Market to Reach $78 Billion by...   \n",
              "\n",
              "                                               r_title Sentiment_Count  \\\n",
              "0       buy hero motocorp target price r hdfc security               z   \n",
              "1       buy hero motocorp target price r hdfc security               z   \n",
              "2                   hero moto corp postpones ev launch               z   \n",
              "3    hero motocorp strengthens partnership uttarakh...               z   \n",
              "4    hero motocorp expects twowheeler industry see ...               z   \n",
              "..                                                 ...             ...   \n",
              "758  blog world bicycle day atlas cycle ride sunset...               z   \n",
              "759    atlas product restrained using atlas trade name               z   \n",
              "760    former atlas cycle president held cheating case               z   \n",
              "761           delhi wife top cycle firm executive hang               z   \n",
              "762                global bicycle market reach billion               z   \n",
              "\n",
              "    Sentiment_TfIdf  \n",
              "0                 z  \n",
              "1                 z  \n",
              "2                 z  \n",
              "3                 z  \n",
              "4                 z  \n",
              "..              ...  \n",
              "758               z  \n",
              "759               z  \n",
              "760               z  \n",
              "761               z  \n",
              "762               z  \n",
              "\n",
              "[763 rows x 5 columns]"
            ],
            "text/html": [
              "\n",
              "  <div id=\"df-2da2b614-c3e3-4960-bdfc-4406473e6174\">\n",
              "    <div class=\"colab-df-container\">\n",
              "      <div>\n",
              "<style scoped>\n",
              "    .dataframe tbody tr th:only-of-type {\n",
              "        vertical-align: middle;\n",
              "    }\n",
              "\n",
              "    .dataframe tbody tr th {\n",
              "        vertical-align: top;\n",
              "    }\n",
              "\n",
              "    .dataframe thead th {\n",
              "        text-align: right;\n",
              "    }\n",
              "</style>\n",
              "<table border=\"1\" class=\"dataframe\">\n",
              "  <thead>\n",
              "    <tr style=\"text-align: right;\">\n",
              "      <th></th>\n",
              "      <th>company_name</th>\n",
              "      <th>news</th>\n",
              "      <th>r_title</th>\n",
              "      <th>Sentiment_Count</th>\n",
              "      <th>Sentiment_TfIdf</th>\n",
              "    </tr>\n",
              "  </thead>\n",
              "  <tbody>\n",
              "    <tr>\n",
              "      <th>0</th>\n",
              "      <td>HERO MOTOCORP LTD.</td>\n",
              "      <td>Buy Hero MotoCorp, target price Rs 2825: HDFC ...</td>\n",
              "      <td>buy hero motocorp target price r hdfc security</td>\n",
              "      <td>z</td>\n",
              "      <td>z</td>\n",
              "    </tr>\n",
              "    <tr>\n",
              "      <th>1</th>\n",
              "      <td>HERO MOTOCORP LTD.</td>\n",
              "      <td>Buy Hero MotoCorp, target price Rs 3069: HDFC ...</td>\n",
              "      <td>buy hero motocorp target price r hdfc security</td>\n",
              "      <td>z</td>\n",
              "      <td>z</td>\n",
              "    </tr>\n",
              "    <tr>\n",
              "      <th>2</th>\n",
              "      <td>HERO MOTOCORP LTD.</td>\n",
              "      <td>Hero Moto Corp postpones EV launch</td>\n",
              "      <td>hero moto corp postpones ev launch</td>\n",
              "      <td>z</td>\n",
              "      <td>z</td>\n",
              "    </tr>\n",
              "    <tr>\n",
              "      <th>3</th>\n",
              "      <td>HERO MOTOCORP LTD.</td>\n",
              "      <td>Hero MotoCorp strengthens partnership with Utt...</td>\n",
              "      <td>hero motocorp strengthens partnership uttarakh...</td>\n",
              "      <td>z</td>\n",
              "      <td>z</td>\n",
              "    </tr>\n",
              "    <tr>\n",
              "      <th>4</th>\n",
              "      <td>HERO MOTOCORP LTD.</td>\n",
              "      <td>Hero MotoCorp expects two-wheeler industry to ...</td>\n",
              "      <td>hero motocorp expects twowheeler industry see ...</td>\n",
              "      <td>z</td>\n",
              "      <td>z</td>\n",
              "    </tr>\n",
              "    <tr>\n",
              "      <th>...</th>\n",
              "      <td>...</td>\n",
              "      <td>...</td>\n",
              "      <td>...</td>\n",
              "      <td>...</td>\n",
              "      <td>...</td>\n",
              "    </tr>\n",
              "    <tr>\n",
              "      <th>758</th>\n",
              "      <td>ATLAS CYCLES (HARYANA) LTD.</td>\n",
              "      <td>Blog: On World Bicycle Day, Atlas Cycles rides...</td>\n",
              "      <td>blog world bicycle day atlas cycle ride sunset...</td>\n",
              "      <td>z</td>\n",
              "      <td>z</td>\n",
              "    </tr>\n",
              "    <tr>\n",
              "      <th>759</th>\n",
              "      <td>ATLAS CYCLES (HARYANA) LTD.</td>\n",
              "      <td>Atlas Products restrained from using 'Atlas' a...</td>\n",
              "      <td>atlas product restrained using atlas trade name</td>\n",
              "      <td>z</td>\n",
              "      <td>z</td>\n",
              "    </tr>\n",
              "    <tr>\n",
              "      <th>760</th>\n",
              "      <td>ATLAS CYCLES (HARYANA) LTD.</td>\n",
              "      <td>Former Atlas Cycles president held in cheating...</td>\n",
              "      <td>former atlas cycle president held cheating case</td>\n",
              "      <td>z</td>\n",
              "      <td>z</td>\n",
              "    </tr>\n",
              "    <tr>\n",
              "      <th>761</th>\n",
              "      <td>ATLAS CYCLES (HARYANA) LTD.</td>\n",
              "      <td>Delhi: Wife of top cycle firm executive hangs ...</td>\n",
              "      <td>delhi wife top cycle firm executive hang</td>\n",
              "      <td>z</td>\n",
              "      <td>z</td>\n",
              "    </tr>\n",
              "    <tr>\n",
              "      <th>762</th>\n",
              "      <td>ATLAS CYCLES (HARYANA) LTD.</td>\n",
              "      <td>Global Bicycles Market to Reach $78 Billion by...</td>\n",
              "      <td>global bicycle market reach billion</td>\n",
              "      <td>z</td>\n",
              "      <td>z</td>\n",
              "    </tr>\n",
              "  </tbody>\n",
              "</table>\n",
              "<p>763 rows × 5 columns</p>\n",
              "</div>\n",
              "      <button class=\"colab-df-convert\" onclick=\"convertToInteractive('df-2da2b614-c3e3-4960-bdfc-4406473e6174')\"\n",
              "              title=\"Convert this dataframe to an interactive table.\"\n",
              "              style=\"display:none;\">\n",
              "        \n",
              "  <svg xmlns=\"http://www.w3.org/2000/svg\" height=\"24px\"viewBox=\"0 0 24 24\"\n",
              "       width=\"24px\">\n",
              "    <path d=\"M0 0h24v24H0V0z\" fill=\"none\"/>\n",
              "    <path d=\"M18.56 5.44l.94 2.06.94-2.06 2.06-.94-2.06-.94-.94-2.06-.94 2.06-2.06.94zm-11 1L8.5 8.5l.94-2.06 2.06-.94-2.06-.94L8.5 2.5l-.94 2.06-2.06.94zm10 10l.94 2.06.94-2.06 2.06-.94-2.06-.94-.94-2.06-.94 2.06-2.06.94z\"/><path d=\"M17.41 7.96l-1.37-1.37c-.4-.4-.92-.59-1.43-.59-.52 0-1.04.2-1.43.59L10.3 9.45l-7.72 7.72c-.78.78-.78 2.05 0 2.83L4 21.41c.39.39.9.59 1.41.59.51 0 1.02-.2 1.41-.59l7.78-7.78 2.81-2.81c.8-.78.8-2.07 0-2.86zM5.41 20L4 18.59l7.72-7.72 1.47 1.35L5.41 20z\"/>\n",
              "  </svg>\n",
              "      </button>\n",
              "      \n",
              "  <style>\n",
              "    .colab-df-container {\n",
              "      display:flex;\n",
              "      flex-wrap:wrap;\n",
              "      gap: 12px;\n",
              "    }\n",
              "\n",
              "    .colab-df-convert {\n",
              "      background-color: #E8F0FE;\n",
              "      border: none;\n",
              "      border-radius: 50%;\n",
              "      cursor: pointer;\n",
              "      display: none;\n",
              "      fill: #1967D2;\n",
              "      height: 32px;\n",
              "      padding: 0 0 0 0;\n",
              "      width: 32px;\n",
              "    }\n",
              "\n",
              "    .colab-df-convert:hover {\n",
              "      background-color: #E2EBFA;\n",
              "      box-shadow: 0px 1px 2px rgba(60, 64, 67, 0.3), 0px 1px 3px 1px rgba(60, 64, 67, 0.15);\n",
              "      fill: #174EA6;\n",
              "    }\n",
              "\n",
              "    [theme=dark] .colab-df-convert {\n",
              "      background-color: #3B4455;\n",
              "      fill: #D2E3FC;\n",
              "    }\n",
              "\n",
              "    [theme=dark] .colab-df-convert:hover {\n",
              "      background-color: #434B5C;\n",
              "      box-shadow: 0px 1px 3px 1px rgba(0, 0, 0, 0.15);\n",
              "      filter: drop-shadow(0px 1px 2px rgba(0, 0, 0, 0.3));\n",
              "      fill: #FFFFFF;\n",
              "    }\n",
              "  </style>\n",
              "\n",
              "      <script>\n",
              "        const buttonEl =\n",
              "          document.querySelector('#df-2da2b614-c3e3-4960-bdfc-4406473e6174 button.colab-df-convert');\n",
              "        buttonEl.style.display =\n",
              "          google.colab.kernel.accessAllowed ? 'block' : 'none';\n",
              "\n",
              "        async function convertToInteractive(key) {\n",
              "          const element = document.querySelector('#df-2da2b614-c3e3-4960-bdfc-4406473e6174');\n",
              "          const dataTable =\n",
              "            await google.colab.kernel.invokeFunction('convertToInteractive',\n",
              "                                                     [key], {});\n",
              "          if (!dataTable) return;\n",
              "\n",
              "          const docLinkHtml = 'Like what you see? Visit the ' +\n",
              "            '<a target=\"_blank\" href=https://colab.research.google.com/notebooks/data_table.ipynb>data table notebook</a>'\n",
              "            + ' to learn more about interactive tables.';\n",
              "          element.innerHTML = '';\n",
              "          dataTable['output_type'] = 'display_data';\n",
              "          await google.colab.output.renderOutput(dataTable, element);\n",
              "          const docLink = document.createElement('div');\n",
              "          docLink.innerHTML = docLinkHtml;\n",
              "          element.appendChild(docLink);\n",
              "        }\n",
              "      </script>\n",
              "    </div>\n",
              "  </div>\n",
              "  "
            ]
          },
          "metadata": {},
          "execution_count": 92
        }
      ]
    },
    {
      "cell_type": "markdown",
      "source": [
        "Word2Vec Vectorizer"
      ],
      "metadata": {
        "id": "8ie27-FY9UFK"
      }
    },
    {
      "cell_type": "code",
      "source": [
        "# load the w2v sentiment vectorizer from the file\n",
        "w2v_vectorizer = pickle.load(open(\"w2v_vectorizer.pkl\", 'rb'))\n",
        "w2v_x_test = [nltk.word_tokenize(k) for k in news_df['r_title'].to_list()]\n",
        "\n",
        "# loading saved sentimental model to test on extracted data\n",
        "filename = 'sentiment-model_w2v.pkl'\n",
        "w2v_sentiment_model = pickle.load(open(filename, 'rb'))\n",
        "\n",
        "# prediction on the scrapped dataset\n",
        "result_sentiment_w2v = w2v_sentiment_model.predict(W2Vvectorize(w2v_x_test, w2v_vectorizer))\n",
        "news_df[\"Sentiment_W2V\"] = result_sentiment_w2v"
      ],
      "metadata": {
        "id": "CNpHLj339Tjl"
      },
      "execution_count": null,
      "outputs": []
    },
    {
      "cell_type": "code",
      "source": [
        "news_df.sample(frac=0.1)"
      ],
      "metadata": {
        "id": "w7ZkrHTiMTxq",
        "colab": {
          "base_uri": "https://localhost:8080/",
          "height": 641
        },
        "outputId": "5b995987-59da-47c5-88e2-fe2784d64888"
      },
      "execution_count": null,
      "outputs": [
        {
          "output_type": "execute_result",
          "data": {
            "text/plain": [
              "                       company_name  \\\n",
              "412                        LML LTD.   \n",
              "158               ABB India Limited   \n",
              "114  HINDUSTAN CONSTRUCTION CO.LTD.   \n",
              "676                       BEML LTD.   \n",
              "749     ATLAS CYCLES (HARYANA) LTD.   \n",
              "..                              ...   \n",
              "622          MSP STEEL & POWER LTD.   \n",
              "11               HERO MOTOCORP LTD.   \n",
              "91                FORCE MOTORS LTD.   \n",
              "183               ABB India Limited   \n",
              "416                        LML LTD.   \n",
              "\n",
              "                                                  news  \\\n",
              "412               After Hours: Yogesh Bhatia, CEO, LML   \n",
              "158  Asset Reliability Management Market Upcoming T...   \n",
              "114      HCC hit lower circuit after a flop show in Q4   \n",
              "676  'Large part of year ahead for divestment': DIP...   \n",
              "749  Atlas Cycles closes operations at last manufac...   \n",
              "..                                                 ...   \n",
              "622  Should We Be Cautious About MSP Steel & Power ...   \n",
              "11   The road to a meaningful recovery for two-whee...   \n",
              "91   Rolls-Royce India President, Kishore Jayaraman...   \n",
              "183  Manufacturing Operations Management (MOM) Soft...   \n",
              "416  India’s Electric Mobility Sector has shown ear...   \n",
              "\n",
              "                                               r_title Sentiment_Count  \\\n",
              "412                         hour yogesh bhatia ceo lml               z   \n",
              "158  asset reliability management market upcoming t...               z   \n",
              "114                  hcc hit lower circuit flop show q               z   \n",
              "676  large part year ahead divestment dipam joint s...               z   \n",
              "749  atlas cycle close operation last manufacturing...               z   \n",
              "..                                                 ...             ...   \n",
              "622      cautious msp steel power limited nse mspl roe               z   \n",
              "11      road meaningful recovery twowheelers long mint               z   \n",
              "91   rollsroyce india president kishore jayaraman r...               z   \n",
              "183  manufacturing operation management mom softwar...               z   \n",
              "416  india electric mobility sector shown early sig...               z   \n",
              "\n",
              "    Sentiment_TfIdf Sentiment_W2V  \n",
              "412               z             z  \n",
              "158               z             z  \n",
              "114               z             z  \n",
              "676               z             z  \n",
              "749               z             z  \n",
              "..              ...           ...  \n",
              "622               z             p  \n",
              "11                z             z  \n",
              "91                z             z  \n",
              "183               z             z  \n",
              "416               z             z  \n",
              "\n",
              "[76 rows x 6 columns]"
            ],
            "text/html": [
              "\n",
              "  <div id=\"df-66bccc0f-6c96-45de-8c77-b017965c2216\">\n",
              "    <div class=\"colab-df-container\">\n",
              "      <div>\n",
              "<style scoped>\n",
              "    .dataframe tbody tr th:only-of-type {\n",
              "        vertical-align: middle;\n",
              "    }\n",
              "\n",
              "    .dataframe tbody tr th {\n",
              "        vertical-align: top;\n",
              "    }\n",
              "\n",
              "    .dataframe thead th {\n",
              "        text-align: right;\n",
              "    }\n",
              "</style>\n",
              "<table border=\"1\" class=\"dataframe\">\n",
              "  <thead>\n",
              "    <tr style=\"text-align: right;\">\n",
              "      <th></th>\n",
              "      <th>company_name</th>\n",
              "      <th>news</th>\n",
              "      <th>r_title</th>\n",
              "      <th>Sentiment_Count</th>\n",
              "      <th>Sentiment_TfIdf</th>\n",
              "      <th>Sentiment_W2V</th>\n",
              "    </tr>\n",
              "  </thead>\n",
              "  <tbody>\n",
              "    <tr>\n",
              "      <th>412</th>\n",
              "      <td>LML LTD.</td>\n",
              "      <td>After Hours: Yogesh Bhatia, CEO, LML</td>\n",
              "      <td>hour yogesh bhatia ceo lml</td>\n",
              "      <td>z</td>\n",
              "      <td>z</td>\n",
              "      <td>z</td>\n",
              "    </tr>\n",
              "    <tr>\n",
              "      <th>158</th>\n",
              "      <td>ABB India Limited</td>\n",
              "      <td>Asset Reliability Management Market Upcoming T...</td>\n",
              "      <td>asset reliability management market upcoming t...</td>\n",
              "      <td>z</td>\n",
              "      <td>z</td>\n",
              "      <td>z</td>\n",
              "    </tr>\n",
              "    <tr>\n",
              "      <th>114</th>\n",
              "      <td>HINDUSTAN CONSTRUCTION CO.LTD.</td>\n",
              "      <td>HCC hit lower circuit after a flop show in Q4</td>\n",
              "      <td>hcc hit lower circuit flop show q</td>\n",
              "      <td>z</td>\n",
              "      <td>z</td>\n",
              "      <td>z</td>\n",
              "    </tr>\n",
              "    <tr>\n",
              "      <th>676</th>\n",
              "      <td>BEML LTD.</td>\n",
              "      <td>'Large part of year ahead for divestment': DIP...</td>\n",
              "      <td>large part year ahead divestment dipam joint s...</td>\n",
              "      <td>z</td>\n",
              "      <td>z</td>\n",
              "      <td>z</td>\n",
              "    </tr>\n",
              "    <tr>\n",
              "      <th>749</th>\n",
              "      <td>ATLAS CYCLES (HARYANA) LTD.</td>\n",
              "      <td>Atlas Cycles closes operations at last manufac...</td>\n",
              "      <td>atlas cycle close operation last manufacturing...</td>\n",
              "      <td>z</td>\n",
              "      <td>z</td>\n",
              "      <td>z</td>\n",
              "    </tr>\n",
              "    <tr>\n",
              "      <th>...</th>\n",
              "      <td>...</td>\n",
              "      <td>...</td>\n",
              "      <td>...</td>\n",
              "      <td>...</td>\n",
              "      <td>...</td>\n",
              "      <td>...</td>\n",
              "    </tr>\n",
              "    <tr>\n",
              "      <th>622</th>\n",
              "      <td>MSP STEEL &amp; POWER LTD.</td>\n",
              "      <td>Should We Be Cautious About MSP Steel &amp; Power ...</td>\n",
              "      <td>cautious msp steel power limited nse mspl roe</td>\n",
              "      <td>z</td>\n",
              "      <td>z</td>\n",
              "      <td>p</td>\n",
              "    </tr>\n",
              "    <tr>\n",
              "      <th>11</th>\n",
              "      <td>HERO MOTOCORP LTD.</td>\n",
              "      <td>The road to a meaningful recovery for two-whee...</td>\n",
              "      <td>road meaningful recovery twowheelers long mint</td>\n",
              "      <td>z</td>\n",
              "      <td>z</td>\n",
              "      <td>z</td>\n",
              "    </tr>\n",
              "    <tr>\n",
              "      <th>91</th>\n",
              "      <td>FORCE MOTORS LTD.</td>\n",
              "      <td>Rolls-Royce India President, Kishore Jayaraman...</td>\n",
              "      <td>rollsroyce india president kishore jayaraman r...</td>\n",
              "      <td>z</td>\n",
              "      <td>z</td>\n",
              "      <td>z</td>\n",
              "    </tr>\n",
              "    <tr>\n",
              "      <th>183</th>\n",
              "      <td>ABB India Limited</td>\n",
              "      <td>Manufacturing Operations Management (MOM) Soft...</td>\n",
              "      <td>manufacturing operation management mom softwar...</td>\n",
              "      <td>z</td>\n",
              "      <td>z</td>\n",
              "      <td>z</td>\n",
              "    </tr>\n",
              "    <tr>\n",
              "      <th>416</th>\n",
              "      <td>LML LTD.</td>\n",
              "      <td>India’s Electric Mobility Sector has shown ear...</td>\n",
              "      <td>india electric mobility sector shown early sig...</td>\n",
              "      <td>z</td>\n",
              "      <td>z</td>\n",
              "      <td>z</td>\n",
              "    </tr>\n",
              "  </tbody>\n",
              "</table>\n",
              "<p>76 rows × 6 columns</p>\n",
              "</div>\n",
              "      <button class=\"colab-df-convert\" onclick=\"convertToInteractive('df-66bccc0f-6c96-45de-8c77-b017965c2216')\"\n",
              "              title=\"Convert this dataframe to an interactive table.\"\n",
              "              style=\"display:none;\">\n",
              "        \n",
              "  <svg xmlns=\"http://www.w3.org/2000/svg\" height=\"24px\"viewBox=\"0 0 24 24\"\n",
              "       width=\"24px\">\n",
              "    <path d=\"M0 0h24v24H0V0z\" fill=\"none\"/>\n",
              "    <path d=\"M18.56 5.44l.94 2.06.94-2.06 2.06-.94-2.06-.94-.94-2.06-.94 2.06-2.06.94zm-11 1L8.5 8.5l.94-2.06 2.06-.94-2.06-.94L8.5 2.5l-.94 2.06-2.06.94zm10 10l.94 2.06.94-2.06 2.06-.94-2.06-.94-.94-2.06-.94 2.06-2.06.94z\"/><path d=\"M17.41 7.96l-1.37-1.37c-.4-.4-.92-.59-1.43-.59-.52 0-1.04.2-1.43.59L10.3 9.45l-7.72 7.72c-.78.78-.78 2.05 0 2.83L4 21.41c.39.39.9.59 1.41.59.51 0 1.02-.2 1.41-.59l7.78-7.78 2.81-2.81c.8-.78.8-2.07 0-2.86zM5.41 20L4 18.59l7.72-7.72 1.47 1.35L5.41 20z\"/>\n",
              "  </svg>\n",
              "      </button>\n",
              "      \n",
              "  <style>\n",
              "    .colab-df-container {\n",
              "      display:flex;\n",
              "      flex-wrap:wrap;\n",
              "      gap: 12px;\n",
              "    }\n",
              "\n",
              "    .colab-df-convert {\n",
              "      background-color: #E8F0FE;\n",
              "      border: none;\n",
              "      border-radius: 50%;\n",
              "      cursor: pointer;\n",
              "      display: none;\n",
              "      fill: #1967D2;\n",
              "      height: 32px;\n",
              "      padding: 0 0 0 0;\n",
              "      width: 32px;\n",
              "    }\n",
              "\n",
              "    .colab-df-convert:hover {\n",
              "      background-color: #E2EBFA;\n",
              "      box-shadow: 0px 1px 2px rgba(60, 64, 67, 0.3), 0px 1px 3px 1px rgba(60, 64, 67, 0.15);\n",
              "      fill: #174EA6;\n",
              "    }\n",
              "\n",
              "    [theme=dark] .colab-df-convert {\n",
              "      background-color: #3B4455;\n",
              "      fill: #D2E3FC;\n",
              "    }\n",
              "\n",
              "    [theme=dark] .colab-df-convert:hover {\n",
              "      background-color: #434B5C;\n",
              "      box-shadow: 0px 1px 3px 1px rgba(0, 0, 0, 0.15);\n",
              "      filter: drop-shadow(0px 1px 2px rgba(0, 0, 0, 0.3));\n",
              "      fill: #FFFFFF;\n",
              "    }\n",
              "  </style>\n",
              "\n",
              "      <script>\n",
              "        const buttonEl =\n",
              "          document.querySelector('#df-66bccc0f-6c96-45de-8c77-b017965c2216 button.colab-df-convert');\n",
              "        buttonEl.style.display =\n",
              "          google.colab.kernel.accessAllowed ? 'block' : 'none';\n",
              "\n",
              "        async function convertToInteractive(key) {\n",
              "          const element = document.querySelector('#df-66bccc0f-6c96-45de-8c77-b017965c2216');\n",
              "          const dataTable =\n",
              "            await google.colab.kernel.invokeFunction('convertToInteractive',\n",
              "                                                     [key], {});\n",
              "          if (!dataTable) return;\n",
              "\n",
              "          const docLinkHtml = 'Like what you see? Visit the ' +\n",
              "            '<a target=\"_blank\" href=https://colab.research.google.com/notebooks/data_table.ipynb>data table notebook</a>'\n",
              "            + ' to learn more about interactive tables.';\n",
              "          element.innerHTML = '';\n",
              "          dataTable['output_type'] = 'display_data';\n",
              "          await google.colab.output.renderOutput(dataTable, element);\n",
              "          const docLink = document.createElement('div');\n",
              "          docLink.innerHTML = docLinkHtml;\n",
              "          element.appendChild(docLink);\n",
              "        }\n",
              "      </script>\n",
              "    </div>\n",
              "  </div>\n",
              "  "
            ]
          },
          "metadata": {},
          "execution_count": 94
        }
      ]
    },
    {
      "cell_type": "code",
      "source": [
        "news_df[\"Sentiment_W2V\"].unique()"
      ],
      "metadata": {
        "id": "lbJyIxKGUbz9",
        "colab": {
          "base_uri": "https://localhost:8080/"
        },
        "outputId": "3552d885-4385-4705-bc34-4866c4eaffe7"
      },
      "execution_count": null,
      "outputs": [
        {
          "output_type": "execute_result",
          "data": {
            "text/plain": [
              "array(['z', 'p'], dtype=object)"
            ]
          },
          "metadata": {},
          "execution_count": 95
        }
      ]
    },
    {
      "cell_type": "code",
      "source": [
        "news_df[\"Sentiment_Count\"].unique()"
      ],
      "metadata": {
        "id": "sEPO3bvre6sc",
        "colab": {
          "base_uri": "https://localhost:8080/"
        },
        "outputId": "de2b4472-a7e6-41d9-817c-76cab7d55b60"
      },
      "execution_count": null,
      "outputs": [
        {
          "output_type": "execute_result",
          "data": {
            "text/plain": [
              "array(['z', 'p', 'n'], dtype=object)"
            ]
          },
          "metadata": {},
          "execution_count": 96
        }
      ]
    },
    {
      "cell_type": "code",
      "source": [
        "news_df[\"Sentiment_TfIdf\"].unique()"
      ],
      "metadata": {
        "id": "ce6Xt2AKe7CD",
        "colab": {
          "base_uri": "https://localhost:8080/"
        },
        "outputId": "60776737-626a-4b84-efcc-c52b7c390595"
      },
      "execution_count": null,
      "outputs": [
        {
          "output_type": "execute_result",
          "data": {
            "text/plain": [
              "array(['z', 'p', 'n'], dtype=object)"
            ]
          },
          "metadata": {},
          "execution_count": 97
        }
      ]
    },
    {
      "cell_type": "markdown",
      "source": [
        "Extract resultant dataframe to .csv"
      ],
      "metadata": {
        "id": "WlstwUlgBq2U"
      }
    },
    {
      "cell_type": "code",
      "source": [
        "news_df.to_csv('sentiment-results.csv')"
      ],
      "metadata": {
        "id": "MxMjjKdb8Wtv"
      },
      "execution_count": null,
      "outputs": []
    }
  ]
}